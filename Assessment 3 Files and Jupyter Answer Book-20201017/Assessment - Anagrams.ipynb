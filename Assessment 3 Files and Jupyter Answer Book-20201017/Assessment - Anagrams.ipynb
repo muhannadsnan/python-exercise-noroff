{
 "cells": [
  {
   "cell_type": "markdown",
   "metadata": {},
   "source": [
    "<h1 style = \"color:red\">Read the Overview, all instructions, the \"VERY IMPORTANT SUBMISSION INFORMATION\" and the Marking Guide thoroughly.</h1>"
   ]
  },
  {
   "cell_type": "markdown",
   "metadata": {},
   "source": [
    "# Overview\n",
    "This assessment requires you to create an application which can perform three activities.  The exact details of each activity will be explained in their own sub-sections.  This section will outline the primary high-level logic of the program.\n",
    "\n",
    "This application will start by presenting a brief explanation of: \n",
    "* anagrams, palingrams and palindromes (Prerequisite knowledge), and\n",
    "* the three activities which can performed by the application (Activity A, Activity B, Activity C).\n",
    "\n",
    "The function with this initial explanation text is included in the provided function called ***print_explanation()***. The application should call this function to show the display in figure 1. \n",
    "\n",
    "<figure>\n",
    "  <img src=\"Display of explanations.png\" alt=\"explantion screen 1\" style=\"width:50%\">\n",
    "  <figcaption style = \"text-align: center\">Figure 1 Display of the explanations</figcaption>\n",
    "</figure>\n",
    "\n",
    "After the explanation is displayed the application should prompt the user to select which activity, they would like performed, or “#” to be entered to end the application (Figure 2).\n",
    "\n",
    "<figure>\n",
    "  <img src=\"figure 2.png\" alt=\"explantion screen 1\" style=\"width:50%\">\n",
    "  <figcaption style = \"text-align: center\">Figure 2 Display of the prompt for activity choice or application end</figcaption>\n",
    "</figure>\n",
    "\n",
    "The application should accept the user’s choice and perform the selected activity's processes.  The processes should call the appropriate functions/procedures within the appropriate logic structures.i.e if activity A is selected, only Activity A should be run. After the Activity **A**, **B**, or **C** have run the program should always display the explanation and re-prompt the user for a new activity selection. \n",
    "\n",
    "When the user is prompted to select an activity, the application should only accept UPPERCASE inputs of ***“A”***, ***“B”***, or ***“C”***. The only other acceptable input is ***“#”***. The ***\"#\"*** should stop the application from running.  For any other user input the program should redisplay the explanation and re-prompt the user for the user’s selection of the activity.\n",
    "\n",
    "NB: The main application should only stop running when the user enters the ***“#”***. Otherwise it must always continue to run.\n",
    "\n",
    "The ***main()function*** should contain the primary display and prompting logic. The **main** functions signature is provided at the bottom of the provided book. Add your code for the main logic there.\n",
    "\n",
    "\n",
    "In the below sections an explanation of the provided resources is presented.The prequisite knowledge you need to complete this assignment  is then introduced. A sectoion with some code which is fully functional and could be used in the assignment is provided. Finally the instructions for the code implementation you need to complete for the application and assessmet is discussed. At the bottom of the document you are provided with code blocks and function signatures. \n",
    "\n",
    "**NB: You should not add extras functions, procedures, or other codeblocks which deviate from what is provided.**\n",
    "\n",
    "\n",
    "## Provided Resources\n",
    "\n",
    "##### 1. Assessment%20-%20Anagrams.ipynb \n",
    "This is the file in which you will complete the required code. It has all required function definitions, and some code included with in it.  You must use only these functions to complete the final solution. However, you can add additional libraries, file references, and variable related code, as necessary.\n",
    "##### 2. words.txt\n",
    "This is the full dictionary file to be used within the assignment. It is the same dictionary used in the solution from which the screenshots were taken. The dictionary does not contain the words “I” or “A”. It is important you include these words in the dictionary or dictionary list before accessing the list of dictionary words in the activity functions.\n",
    "##### 3. smaller.txt\n",
    "This is a smaller version of the dictionary which you have the option of using to test functionality of the activities. You do not need to use it if you do not want to. It is intended to make testing your code quicker, as some activities, particularly **Activity B** can take a longer amount of time to run using the ***words.txt*** file.<br/>**When you submit the final solution make sure your solution is using the words.txt** \n",
    "            \n",
    "##### 4. racecar-10.09.2020_13.05.06.txt\n",
    "This is an example of a file which would be output by **Activity A**. This example shows the expected file output when there are no anagrams for the user provided word, but the provided word itself is a palindrome.\n",
    "            \n",
    "##### 5. assessment-10.09.2020_13.05.00.txt\n",
    "This is an example of a file which would be output by **Activity A**. This example shows the expected file output when there are no anagrams for the user provided word, but the provided word itself is not a palindrome.\n",
    "            \n",
    "##### 6. repaper-10.09.2020_13.05.03.txt\n",
    "This is an example of a file which would be output by **Activity A**. This example shows the expected file output when there are anagrams for the user provided word, and the provided word itself is a palindrome.\n",
    "    \n",
    "##### 7. dictionaryPalingrams.txt\n",
    "This is an example of a file which would be output by **Activity C**. It is an incomplete file.\n",
    "\n",
    "\n",
    "\n",
    "## Prerequisite knowledge for assessment\n",
    "\n",
    "The assessment will require you to find anagrams, palindromes, and palingrams. To do this you need to understand what they are. The below section presents a simple explanation of these concepts.\n",
    "### 1. Anagrams\n",
    "\n",
    "An anagram is a play on words created by rearranging the letters of the original word to make a new word or phrase. Anagram examples can be fun and witty, and they often end in hilarious results.\n",
    "Anagrams are often longer words or phrases that do not necessarily mean anything but are fun to come up with and say. There are also anagrams of simple words that create random, new words that are not relevant to one another.\n",
    "Single word anagram examples include:\n",
    "    \n",
    "* Tar = Rat\n",
    "* Arc = Car\n",
    "* Elbow = Below\n",
    "* State = Taste\n",
    "* Cider = Cried\n",
    "* Dusty = Study\n",
    "* Night = Thing\n",
    "\n",
    "There are more complex phrases which include multiple words; however, this assessment will focus on anagrams of single words found in the dictionary.\n",
    "\n",
    "### 2. Palindromes\n",
    "A palindrome is a word, phrase, number, or sequence of words that reads the same backward as forward. Punctuation and spaces between the words or lettering is allowed. This assessment will focus on single word, and two-word palindromes.\n",
    "5\n",
    "Single word palindrome examples include:\n",
    "* anna\n",
    "* civic\n",
    "* kayak\n",
    "* level\n",
    "* madam\n",
    "* mom\n",
    "* noon\n",
    "* radar\n",
    "* redder\n",
    "\n",
    "### 3. Palingrams\n",
    "A palingram is a sentence in which the letters, syllables, or words read the same backward as they do forward. Multiple word palindromes (palingrams) include:\n",
    "* top spot\n",
    "* my gym\n",
    "* ala cicala\n"
   ]
  },
  {
   "cell_type": "markdown",
   "metadata": {},
   "source": [
    "# The Activity Explanations\n",
    "There are three activities in this assessments application. Activity A, Activity B and Activity C. The functionality for each of these will explained here. Read the descriptions carefully as variable names, function names, and logic hints are included in the explanations.\n",
    "\n",
    "## Activity A: Find Anagrams\n",
    "Figure 3 shows acceptable user input to trigger activity “A”. Activity A finds the anagrams for any word a user enters. \n",
    "\n",
    "<figure>\n",
    "  <img src=\"figure 3.png\" alt=\"figure 3\" style=\"width:50%\">\n",
    "  <figcaption style = \"text-align: center\">Figure 3 Acceptable input for triggering Activity A</figcaption>\n",
    "</figure>\n",
    "\n",
    "The program prompts the user for their choice of a single word. \n",
    "\n",
    "The application must check that the user’s input is a word or alphabetical characters. It can not accept special characters or numbers. If the input is invalid the initial explanation and user prompting should be re-displayed. The application should not need to be restarted manually. \n",
    "\n",
    "If the user was correct, the application should display the message ***“Using word =”*** with the user’s input word added at the end. See figure 4, figure 5, and figure 6.\n",
    "\n",
    "Once the sentence is displayed the application should use a combination of logic and the provided functions to find the anagrams of the provided words. The anagrams should be found by taking the user a word and searching the dictionary for anagrams of equal length for the word.  The application should compile a list of the anagrams if they exist. It should then print the list of anagrams.\n",
    "\n",
    "* The first item in the anagram list should always be the user’s word\n",
    "* All other items in the list should be sorted alphabetically (see figure 6)\n",
    "\n",
    "Once the anagrams list has been created, all the items in the list should be printed as shown in figure 4. The displaying of the list should be accomplished using the ***print_generic_list() function***. This same function should include code to display a descriptive message of there being no anagrams to display of the list contains no items.  This code should not change if the function was called elsewhere and provided different parameters.\n",
    "\n",
    "After displaying the anagrams, the application should search the anagrams list for any palindromes. The application should compile a list of the palindromes if they exist in the list of anagrams. The list should include the word itself if it is a palindrome. The final part of this functionality should display the message:\n",
    "\n",
    "***“Number of palindromes found = “*** and the number of palindromes in the list.\n",
    "\n",
    "Once the list of palindromes is formed its contents should be displayed using the ***print_generic_list()*** function. If there are no palindromes the appropriate message should be displayed (see figure 5).\n",
    "\n",
    "After all the processing and the displaying of the information the entire result set should be written to file. The ***write_anagrams_palindromes_to_file()*** function should be used to accomplish the task.\n",
    "\n",
    "The function should store the list of anagrams, and the list of palindromes. The format of how this is done is shown in the included example text examples. \n",
    "\n",
    "1. *racecar-10.09.2020_13.05.06.txt*\n",
    "2. *assessment-10.09.2020_13.05.00.txt*\n",
    "3. *repaper-10.09.2020_13.05.03.txt*\n",
    "\n",
    "The function should create a new file for each search and process of activity A. The name should be formed using the following format:\n",
    "\n",
    "*“User_word-month.day.year_hour.minute.second.txt”*\n",
    "\n",
    "The date and time used are from the time the file is created.\n",
    "\n",
    "<figure>\n",
    "  <img src=\"figure 4.png\" alt=\"figure 4\" style=\"width:350px;height:300px\">\n",
    "  <figcaption style = \"text-align: center\">Figure 4 Full Activity A result display 1. Discussed in given code section.</figcaption>\n",
    "</figure>\n",
    "\n",
    "<figure>\n",
    "  <img src=\"figure 5.png\" alt=\"figure 5\" style=\"width:350px;height:300px\">\n",
    "  <figcaption style = \"text-align: center\">Figure 5 Full Activity A result display 2. Discussed in given code section.</figcaption>\n",
    "</figure>\n",
    "\n",
    "<figure>\n",
    "  <img src=\"figure 6.png\" alt=\"figure 6\" style=\"width:350px;height:320px\">\n",
    "  <figcaption style = \"text-align: center\">Figure 6 Full Activity A result display 3. Discussed in given code section.</figcaption>\n",
    "</figure>\n",
    "\n",
    "## Activity B: Find Word Pairs in provided dictionary file\n",
    " For this task use the provided dictionary. The \"words.txt\" should be used in your final submission. But you can use \"smaller.txt\" for testing whilst writing the code. **FINAL SUBMUSSION MUST USE \"words.txt\"**\n",
    " \n",
    " Figure 7 shows acceptable user input to trigger activity “B”. Activity B finds all the word pairs in the dictionary list which form palingrams.  The palingrams ignore spaces and hyphens.\n",
    " \n",
    " <figure>\n",
    "  <img src=\"figure 7.png\" alt=\"figure 7\" style=\"width:100%\">\n",
    "  <figcaption style = \"text-align: center\">Figure 7 Acceptable input for triggering Activity B</figcaption>\n",
    "</figure>\n",
    "\n",
    "Activity B uses the function ***find_palingrams()***. For every word in the dictionary list, the function should check if any other word(s) in the dictionary can be used    to form palingrams. Examples of palingrams are show in the displays of figure 8 and figure 9. This function should compile a dictionary collection of the word pairs. \n",
    "\n",
    "Once the collection of palingrams have been formed, the list should be displayed using the ***print_pairs_of_twos()*** functions. The display should be as shown in figure 8 and figure 9. \n",
    "\n",
    "There are 5960 word pairings (palingrams) when using the ***words.txt*** file including the words “a” and I”. Your code should be testable using this file of a different file with a similar format.\n",
    "\n",
    "The full collection should be written to file using the ***write_palingrams_to_file()*** function. The file should be written or overwrite the file ***dictionaryPalingrams.txt***.\n",
    "\n",
    "\n",
    "<figure>\n",
    "  <img src=\"figure 8.png\" alt=\"figure 8\" style=\"width:250px;height:500px\">\n",
    "  <figcaption style = \"text-align: center\">Figure 8 Display of results from Activity B start of display</figcaption>\n",
    "</figure>\n",
    "\n",
    "<figure>\n",
    "  <img src=\"figure 9.png\" alt=\"figure 9\" style=\"width:250px;height:500px\">\n",
    "  <figcaption style = \"text-align: center\">Figure 9 Display of results from Activity B end of display</figcaption>\n",
    "</figure>\n",
    " \n",
    "## Activity C: Find all the palindromes in the dictionary\n",
    "Figure 10 shows acceptable user input to trigger activity “C”. Activity C finds all the palindromes in the dictionary. A sample selection of the palindromes is shown in figure 10.\n",
    "\n",
    "<figure>\n",
    "  <img src=\"figure 10.png\" alt=\"figure 10\" style=\"width:550px;height:500px\">\n",
    "  <figcaption style = \"text-align: center\">Figure 10 Sample of the display from Activity C</figcaption>\n",
    "</figure>\n",
    "\n",
    "The application searches the entire dictionary file/list for palindromes and compiles a list of palindromes. *There are 91 palindromes in the file/list of dictionary words when using the words.txt file including the words “a” and I”.*\n",
    "\n",
    "The application should display all the palindromes (as seen in figure 10).  This should be accomplished using the ***print_generic_list()*** function.\n"
   ]
  },
  {
   "cell_type": "markdown",
   "metadata": {},
   "source": [
    "## Fully Defined Functions - DO NOT CHANGE\n",
    "\n",
    "Each of the functions in this section includes functions which are provided fully functional. The should not be altered in any way. Only use them.\n",
    "\n",
    "#### print_explanation()\n",
    "The function to print out the programs functionality explanation."
   ]
  },
  {
   "cell_type": "code",
   "execution_count": 1,
   "metadata": {},
   "outputs": [],
   "source": [
    "def print_explanation():\n",
    "    print(\n",
    "        '''\n",
    "        An anagram is a word or phrase formed by rearranging the letters of a different word or phrase, \n",
    "        typically using all the original letters exactly once. It can however us on a few of the letters.    \n",
    "        A palindrome is a word, number, phrase, or other sequence of characters which reads the same \n",
    "        backward as forward, such as \"madam\" or \"racecar\".\n",
    "    \n",
    "        A palingram – a letter palingram. A palingram can also be created using syllables\n",
    "        or words, in addition to individual letters. An example of this using words is, “He was, was he?” \n",
    "        Notice that the words can be reversed and the sentence still reads the same. \n",
    "        A sentence that is a palingram and a palindrome is, “I did, did I”  \n",
    "        \n",
    "        This application allows three activities.\n",
    "    \n",
    "          Activity A: Finds the anagrams for any word you enter. Then identifies palindromes, if there are any, \n",
    "                      in the identified anagrams. \n",
    "    \n",
    "          Activity B: Finds all the word pairs in the dictionary list which form palingrams. \n",
    "                      The palingrams ignore spaces and hyphens.   \n",
    "                      \n",
    "          Activity C: Find all the palindromes in the dictionary.\n",
    "          ''')"
   ]
  },
  {
   "cell_type": "markdown",
   "metadata": {},
   "source": [
    "#### load(file)\n",
    "Loads a text file as a list.\n",
    "\n",
    "Arguments:\n",
    "-text file name\n",
    "\n",
    "Exceptions:\n",
    "-IOError if filename not found.\n",
    "\n",
    "Returns:\n",
    "-A list of all words in text file in lower case.\n",
    "\n",
    "Requires-import sys"
   ]
  },
  {
   "cell_type": "code",
   "execution_count": 2,
   "metadata": {},
   "outputs": [],
   "source": [
    "def load(file):\n",
    "    \"\"\"Open a text file & turn contents into a list of lowercase strings.\"\"\"\n",
    "    try:\n",
    "        with open(file) as in_file:\n",
    "            loaded_txt = in_file.read().strip().split('\\n')\n",
    "            loaded_txt = [x.lower() for x in loaded_txt]\n",
    "            return loaded_txt\n",
    "    except IOError as e:\n",
    "        print(\"{}\\nError opening {}. Terminating program.\".format(e, file),\n",
    "              file=sys.stderr)\n",
    "        sys.exit(1)"
   ]
  },
  {
   "cell_type": "markdown",
   "metadata": {},
   "source": [
    "## Functions which you must complete\n",
    "Replace the ***pass*** with the code required in each method or procedure. Consider the requirements for Activity A, Activity B and Activity C when doing this. Several of the functions are used in multiple tasks. Reusability is a key part of defining and using the functions."
   ]
  },
  {
   "cell_type": "markdown",
   "metadata": {},
   "source": [
    "#### find_anagrams(word_for_search, search_list_dictionary):\n",
    "Find dictionary palingrams."
   ]
  },
  {
   "cell_type": "code",
   "execution_count": 3,
   "metadata": {},
   "outputs": [],
   "source": [
    "def find_anagrams(word_for_search, search_list_dictionary):\n",
    "    \n",
    "    pass"
   ]
  },
  {
   "cell_type": "markdown",
   "metadata": {},
   "source": [
    "#### find_palingrams(dictionary_list)\n",
    "Find dictionary palingrams."
   ]
  },
  {
   "cell_type": "code",
   "execution_count": 4,
   "metadata": {},
   "outputs": [],
   "source": [
    "def find_palingrams(dictionary_list):\n",
    "\n",
    "    pass\n"
   ]
  },
  {
   "cell_type": "markdown",
   "metadata": {},
   "source": [
    "#### print_generic_list(list_items_category_name, list_to_print):\n",
    "Print a list of the items in any list passed to the function. Use the first parameter to describe the list."
   ]
  },
  {
   "cell_type": "code",
   "execution_count": 5,
   "metadata": {},
   "outputs": [],
   "source": [
    "def print_generic_list(list_items_category_name, list_to_print):\n",
    "    pass"
   ]
  },
  {
   "cell_type": "markdown",
   "metadata": {},
   "source": [
    "#### find_palindromes(anagram_list)\n",
    "Find palindromes in the anagrams list."
   ]
  },
  {
   "cell_type": "code",
   "execution_count": 6,
   "metadata": {},
   "outputs": [],
   "source": [
    "def find_palindromes(anagram_list):\n",
    "    \"\"\"Find palindromes in the anagrams list.\"\"\"\n",
    "    pass"
   ]
  },
  {
   "cell_type": "markdown",
   "metadata": {},
   "source": [
    "#### print_pairs_of_twos(dictionary_of_pairs):\n",
    "Print the keywords and values of an dictionary passed to the method."
   ]
  },
  {
   "cell_type": "code",
   "execution_count": 7,
   "metadata": {},
   "outputs": [],
   "source": [
    "def print_pairs_of_twos(dictionary_of_pairs):\n",
    "    \"\"\"Print the keywords and values of an dictionary passed to the method.\"\"\"\n",
    "    pass"
   ]
  },
  {
   "cell_type": "markdown",
   "metadata": {},
   "source": [
    "#### write_anagrams_palindromes_to_file(original_word, anagrams_list, palindromes_list):\n",
    "Write the lists of anagrams and the palindromes to a file.Use the original word in the file names and descriptions."
   ]
  },
  {
   "cell_type": "code",
   "execution_count": 8,
   "metadata": {},
   "outputs": [],
   "source": [
    "def write_anagrams_palindromes_to_file(original_word, anagrams_list, palindromes_list):\n",
    "    pass"
   ]
  },
  {
   "cell_type": "markdown",
   "metadata": {},
   "source": [
    "#### write_palingrams_to_file(palingram_list):\n",
    "Write the lists of palingrams to a file."
   ]
  },
  {
   "cell_type": "code",
   "execution_count": 9,
   "metadata": {},
   "outputs": [],
   "source": [
    "def write_palingrams_to_file(palingram_list):\n",
    "    \"\"\"Write the lists of palingrams to a file.\"\"\"\n",
    "    pass\n"
   ]
  },
  {
   "cell_type": "markdown",
   "metadata": {},
   "source": [
    "## Variable Block and Main()\n",
    "The below code block is where where import statements and any variables which should be global should be declared.And if necessary manipulated for global use."
   ]
  },
  {
   "cell_type": "code",
   "execution_count": 10,
   "metadata": {},
   "outputs": [],
   "source": [
    "import sys\n",
    "\n",
    "#add others here"
   ]
  },
  {
   "cell_type": "markdown",
   "metadata": {},
   "source": [
    "#### main():\n",
    "The main method with primary functionality of the application.\n",
    "\n",
    "The variable ***running*** is included in this code. Make sure to use it."
   ]
  },
  {
   "cell_type": "code",
   "execution_count": 11,
   "metadata": {},
   "outputs": [],
   "source": [
    "def main():\n",
    "    running = True\n",
    "    pass\n"
   ]
  },
  {
   "cell_type": "markdown",
   "metadata": {},
   "source": [
    "#### Call to main\n",
    "This cell will run your whole program. **DO NOT ADD CODE TO IT**"
   ]
  },
  {
   "cell_type": "code",
   "execution_count": 12,
   "metadata": {},
   "outputs": [],
   "source": [
    "if __name__ == '__main__':\n",
    "    main()"
   ]
  },
  {
   "cell_type": "markdown",
   "metadata": {},
   "source": [
    "# VERY IMPORTANT SUBMISSION INFORMATION\n",
    "\n",
    "<h2>When you submit the file you must submit it having been run. You should run the file, complete Activity 1, Activity 2 and Activity 3. All results should be visible in you submission when it is opened.</h2>\n",
    "\n",
    "<h2 style=\"color:red\">If the marker must run your file when you mark it there will be an immediate 10% penalty on your final mark.</h2>\n",
    "\n",
    "# Reflective Task\n",
    "\n",
    "The activity of finding and manipulating anagrams, palindromes, and palingrams will not be a frequent activity in your daily professional tasks. However, the skills learned to achieve this, manipulating and find data are very transferable to working with large datasets. All of the study streams will need to be able to access, manipulate, analyse and search large data files e.g  event logs, data feeds e.g large twitter datasets, hidden file directories or properties.\n",
    "\n",
    "Having now completed this task, you have identified the knowledge areas and skills you needed. You will also have identified which skills you are strong and weak in. In the below markdown tab, reflect on the following:\n",
    "\n",
    "1. Which skills were you strongest in?\n",
    "2. Which skills are you weakest in?\n",
    "3. How do you think you can improve these skills?\n",
    "4. In detail, how do you think the course's learning material could be improved to further support you and your skill development?\n",
    "5. Was there anything you very strongly liked or disliked in the course?\n",
    "\n",
    "**The reflection should be a minimum of 200 words. You can reflect in a single discussion or under each heading. The headers do NOT count towards the 200-word minimum.**"
   ]
  },
  {
   "cell_type": "markdown",
   "metadata": {},
   "source": [
    "Reflect here. Replace this text."
   ]
  },
  {
   "cell_type": "markdown",
   "metadata": {},
   "source": [
    "# Marking and Assessment\n",
    "\n",
    "### The Marking Guide is available in the assignments PDF.\n",
    "\n",
    "**IMPORTANT: If you do not submit the reflective answer you immediately receive zero.**\n",
    "\n",
    "Feedback for this assessment and a breakdown of the final grade will be provided via the LMS (Moodle). "
   ]
  },
  {
   "cell_type": "code",
   "execution_count": null,
   "metadata": {},
   "outputs": [],
   "source": []
  }
 ],
 "metadata": {
  "kernelspec": {
   "display_name": "Python 3",
   "language": "python",
   "name": "python3"
  },
  "language_info": {
   "codemirror_mode": {
    "name": "ipython",
    "version": 3
   },
   "file_extension": ".py",
   "mimetype": "text/x-python",
   "name": "python",
   "nbconvert_exporter": "python",
   "pygments_lexer": "ipython3",
   "version": "3.7.6"
  }
 },
 "nbformat": 4,
 "nbformat_minor": 4
}
