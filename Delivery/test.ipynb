import sys
def main():
    print('this is main haha')
main()