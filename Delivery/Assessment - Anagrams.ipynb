{
 "cells": [
  {
   "source": [
    "<style>\n",
    "    .heading{\n",
    "        color: #60e0b1; \n",
    "        font-size: 100px; \n",
    "        text-align: center; \n",
    "        padding: 0; \n",
    "        margin: 0; \n",
    "        border: 5px solid #60e0b1; \n",
    "        border-radius: 10px;\n",
    "    }\n",
    "    .heading:hover{\n",
    "        background: #60e0b1; \n",
    "        color: #222;\n",
    "    }\n",
    "</style>\n",
    "\n",
    "<h1 class=\"heading\">\n",
    "    Delivery\n",
    "</h1>"
   ],
   "cell_type": "markdown",
   "metadata": {}
  },
  {
   "source": [
    "# The function to print out the programs functionality explanation.\n",
    "def print_explanation():\n",
    "    print(\n",
    "        '''\n",
    "        An anagram is a word or phrase formed by rearranging the letters of a different word or phrase, \n",
    "        typically using all the original letters exactly once. It can however us on a few of the letters.    \n",
    "        A palindrome is a word, number, phrase, or other sequence of characters which reads the same \n",
    "        backward as forward, such as \"madam\" or \"racecar\".\n",
    "    \n",
    "        A palingram – a letter palingram. A palingram can also be created using syllables\n",
    "        or words, in addition to individual letters. An example of this using words is, “He was, was he?” \n",
    "        Notice that the words can be reversed and the sentence still reads the same. \n",
    "        A sentence that is a palingram and a palindrome is, “I did, did I”  \n",
    "        \n",
    "        This application allows three activities.\n",
    "    \n",
    "          Activity A: Finds the anagrams for any word you enter. Then identifies palindromes, if there are any, \n",
    "                      in the identified anagrams. \n",
    "    \n",
    "          Activity B: Finds all the word pairs in the dictionary list which form palingrams. \n",
    "                      The palingrams ignore spaces and hyphens.   \n",
    "                      \n",
    "          Activity C: Find all the palindromes in the dictionary.\n",
    "          ''')"
   ],
   "cell_type": "code",
   "metadata": {},
   "execution_count": 52,
   "outputs": []
  },
  {
   "source": [
    "# Loads a text file as a list. Arguments: -text file name. Exceptions: -IOError if filename not found. Returns: -A list of all words in text file in lower case. Requires-import sys\n",
    "def load(file):\n",
    "    \"\"\"Open a text file & turn contents into a list of lowercase strings.\"\"\"\n",
    "    try:\n",
    "        with open(file) as in_file:\n",
    "            loaded_txt = in_file.read().strip().split('\\n')\n",
    "            loaded_txt = [x.lower() for x in loaded_txt]\n",
    "            return loaded_txt\n",
    "    except IOError as e:\n",
    "        print(\"{}\\nError opening {}. Terminating program.\".format(e, file),\n",
    "              file=sys.stderr)\n",
    "        sys.exit(1)"
   ],
   "cell_type": "code",
   "metadata": {},
   "execution_count": 53,
   "outputs": []
  },
  {
   "cell_type": "code",
   "execution_count": 54,
   "metadata": {},
   "outputs": [],
   "source": [
    "# Find dictionary palingrams\n",
    "def find_anagrams(word_for_search, search_list_dictionary):\n",
    "    print(len(word_for_search))\n",
    "    print(search_list_dictionary)\n",
    "    # Find anagrams having the same length of the user word\n",
    "    \n",
    "    print_generic_list()\n",
    "    "
   ]
  },
  {
   "cell_type": "code",
   "execution_count": 55,
   "metadata": {},
   "outputs": [],
   "source": [
    "# Find palindromes in the anagrams list\n",
    "def find_palindromes(anagram_list):\n",
    "    \"\"\"Find palindromes in the anagrams list.\"\"\"\n",
    "    pass"
   ]
  },
  {
   "cell_type": "code",
   "execution_count": 56,
   "metadata": {},
   "outputs": [],
   "source": [
    "# Find dictionary palingrams\n",
    "def find_palingrams(dictionary_list):\n",
    "\n",
    "    pass\n"
   ]
  },
  {
   "cell_type": "code",
   "execution_count": 57,
   "metadata": {},
   "outputs": [],
   "source": [
    "# Print a list of the items in any list passed to the function. Use the first parameter to describe the list\n",
    "def print_generic_list(list_items_category_name, list_to_print):\n",
    "    pass"
   ]
  },
  {
   "cell_type": "code",
   "execution_count": 58,
   "metadata": {},
   "outputs": [],
   "source": [
    "# Print the keywords and values of an dictionary passed to the method\n",
    "def print_pairs_of_twos(dictionary_of_pairs):\n",
    "    \"\"\"Print the keywords and values of an dictionary passed to the method.\"\"\"\n",
    "    pass"
   ]
  },
  {
   "cell_type": "code",
   "execution_count": 59,
   "metadata": {},
   "outputs": [],
   "source": [
    "# Write the lists of anagrams and the palindromes to a file. Use the original word in the file names and descriptions\n",
    "def write_anagrams_palindromes_to_file(original_word, anagrams_list, palindromes_list):\n",
    "    pass"
   ]
  },
  {
   "source": [
    "# Write the lists of palingrams to a file\n",
    "def write_palingrams_to_file(palingram_list):\n",
    "    \"\"\"Write the lists of palingrams to a file.\"\"\"\n",
    "    pass\n"
   ],
   "cell_type": "code",
   "metadata": {},
   "execution_count": 60,
   "outputs": []
  },
  {
   "cell_type": "code",
   "execution_count": 61,
   "metadata": {},
   "outputs": [],
   "source": [
    "def explanation_prompt():\n",
    "    # Starting up with showing explanation of the program so that the user has an overview over what it is about\n",
    "    #print_explanation()\n",
    "\n",
    "    # Now asking the user for desired input\n",
    "    global activity # Use the global variable \"activity\" to take the input of the user\n",
    "    activity = input('Choose activity A, B, or C. to run the process enter the appropriate letter. Else enter # to exit the application. \\nEnter choice:')"
   ]
  },
  {
   "cell_type": "code",
   "execution_count": 62,
   "metadata": {},
   "outputs": [],
   "source": [
    "def main():\n",
    "    # Keep showing the explanation & asking the user for input, unless '#' is entered    \n",
    "    while activity != '#':\n",
    "        # Show explanation & user input \n",
    "        explanation_prompt()\n",
    "\n",
    "        # No valid choice entered by the user, no access to the program's activities\n",
    "        if activity.isalpha():\n",
    "            # Valid choice entered, execute the desired activity\n",
    "            if activity == 'A':\n",
    "                # Prompt asking for user word to search\n",
    "                user_word = input('Enter a word to be used in the anagram search:')\n",
    "                print('Using word = ' + user_word)\n",
    "                # Search for dictionary words that match the length of user word. To do so, read the dictionary file:\n",
    "                op_file = open('words.txt', 'r')\n",
    "                words_dictionary = op_file.read()\n",
    "                # Within the words dictionary, find anagrams that match the user word\n",
    "                find_anagrams(user_word, words_dictionary)\n",
    "\n",
    "            elif activity == 'B':\n",
    "                find_palindromes()\n",
    "                \n",
    "            elif activity == 'C':\n",
    "                find_palingrams()\n",
    "        \n",
    "        \n",
    "        # Invalid user input\n",
    "        else:\n",
    "            print(activity+' Invalid input..')"
   ]
  },
  {
   "cell_type": "code",
   "execution_count": 63,
   "metadata": {
    "tags": [
     "outputPrepend"
    ]
   },
   "outputs": [
    {
     "output_type": "stream",
     "name": "stdout",
     "text": [
      "iffet\nwhiffets\nwhiffing\nwhiffle\nwhiffled\nwhiffler\nwhifflers\nwhiffles\nwhiffling\nwhiffs\nwhile\nwhiled\nwhiles\nwhiling\nwhilom\nwhilst\nwhim\nwhimbrel\nwhimbrels\nwhimper\nwhimpered\nwhimpering\nwhimpers\nwhims\nwhimsey\nwhimseys\nwhimsical\nwhimsicalities\nwhimsicality\nwhimsically\nwhimsied\nwhimsies\nwhimsy\nwhin\nwhinchat\nwhinchats\nwhine\nwhined\nwhiner\nwhiners\nwhines\nwhiney\nwhinier\nwhiniest\nwhining\nwhinnied\nwhinnier\nwhinnies\nwhinniest\nwhinny\nwhinnying\nwhins\nwhiny\nwhip\nwhipcord\nwhipcords\nwhiplash\nwhiplashes\nwhiplike\nwhipped\nwhipper\nwhippers\nwhippersnapper\nwhippersnappers\nwhippet\nwhippets\nwhippier\nwhippiest\nwhipping\nwhippings\nwhippoorwill\nwhippoorwills\nwhippy\nwhipray\nwhiprays\nwhips\nwhipsaw\nwhipsawed\nwhipsawing\nwhipsawn\nwhipsaws\nwhipt\nwhiptail\nwhiptails\nwhipworm\nwhipworms\nwhir\nwhirl\nwhirled\nwhirler\nwhirlers\nwhirlier\nwhirlies\nwhirliest\nwhirling\nwhirlpool\nwhirlpools\nwhirls\nwhirlwind\nwhirlwinds\nwhirly\nwhirr\nwhirred\nwhirried\nwhirries\nwhirring\nwhirrs\nwhirry\nwhirrying\nwhirs\nwhish\nwhished\nwhishes\nwhishing\nwhisht\nwhishted\nwhishting\nwhishts\nwhisk\nwhisked\nwhisker\nwhiskered\nwhiskers\nwhiskery\nwhiskey\nwhiskeys\nwhiskies\nwhisking\nwhisks\nwhisky\nwhisper\nwhispered\nwhispering\nwhispers\nwhispery\nwhist\nwhisted\nwhisting\nwhistle\nwhistled\nwhistler\nwhistlers\nwhistles\nwhistling\nwhists\nwhit\nwhite\nwhitebait\nwhitebaits\nwhitecap\nwhitecaps\nwhited\nwhitefish\nwhitefishes\nwhiteflies\nwhitefly\nwhitely\nwhiten\nwhitened\nwhitener\nwhiteners\nwhiteness\nwhitenesses\nwhitening\nwhitens\nwhiteout\nwhiteouts\nwhiter\nwhites\nwhitest\nwhitetail\nwhitetails\nwhitewash\nwhitewashed\nwhitewashes\nwhitewashing\nwhitey\nwhiteys\nwhither\nwhities\nwhiting\nwhitings\nwhitish\nwhitlow\nwhitlows\nwhitrack\nwhitracks\nwhits\nwhitter\nwhitters\nwhittle\nwhittled\nwhittler\nwhittlers\nwhittles\nwhittling\nwhittret\nwhittrets\nwhity\nwhiz\nwhizbang\nwhizbangs\nwhizz\nwhizzed\nwhizzer\nwhizzers\nwhizzes\nwhizzing\nwho\nwhoa\nwhoas\nwhodunit\nwhodunits\nwhoever\nwhole\nwholehearted\nwholeness\nwholenesses\nwholes\nwholesale\nwholesaled\nwholesaler\nwholesalers\nwholesales\nwholesaling\nwholesome\nwholesomeness\nwholesomenesses\nwholism\nwholisms\nwholly\nwhom\nwhomever\nwhomp\nwhomped\nwhomping\nwhomps\nwhomso\nwhoop\nwhooped\nwhoopee\nwhoopees\nwhooper\nwhoopers\nwhooping\nwhoopla\nwhooplas\nwhoops\nwhoosh\nwhooshed\nwhooshes\nwhooshing\nwhoosis\nwhoosises\nwhop\nwhopped\nwhopper\nwhoppers\nwhopping\nwhops\nwhore\nwhored\nwhoredom\nwhoredoms\nwhores\nwhoreson\nwhoresons\nwhoring\nwhorish\nwhorl\nwhorled\nwhorls\nwhort\nwhortle\nwhortles\nwhorts\nwhose\nwhosever\nwhosis\nwhosises\nwhoso\nwhosoever\nwhump\nwhumped\nwhumping\nwhumps\nwhy\nwhydah\nwhydahs\nwhys\nwich\nwiches\nwick\nwickape\nwickapes\nwicked\nwickeder\nwickedest\nwickedly\nwickedness\nwickednesses\nwicker\nwickers\nwickerwork\nwickerworks\nwicket\nwickets\nwicking\nwickings\nwickiup\nwickiups\nwicks\nwickyup\nwickyups\nwicopies\nwicopy\nwidder\nwidders\nwiddie\nwiddies\nwiddle\nwiddled\nwiddles\nwiddling\nwiddy\nwide\nwidely\nwiden\nwidened\nwidener\nwideners\nwideness\nwidenesses\nwidening\nwidens\nwider\nwides\nwidespread\nwidest\nwidgeon\nwidgeons\nwidget\nwidgets\nwidish\nwidow\nwidowed\nwidower\nwidowers\nwidowhood\nwidowhoods\nwidowing\nwidows\nwidth\nwidths\nwidthway\nwield\nwielded\nwielder\nwielders\nwieldier\nwieldiest\nwielding\nwields\nwieldy\nwiener\nwieners\nwienie\nwienies\nwife\nwifed\nwifedom\nwifedoms\nwifehood\nwifehoods\nwifeless\nwifelier\nwifeliest\nwifelike\nwifely\nwifes\nwifing\nwig\nwigan\nwigans\nwigeon\nwigeons\nwigged\nwiggeries\nwiggery\nwigging\nwiggings\nwiggle\nwiggled\nwiggler\nwigglers\nwiggles\nwigglier\nwiggliest\nwiggling\nwiggly\nwight\nwights\nwigless\nwiglet\nwiglets\nwiglike\nwigmaker\nwigmakers\nwigs\nwigwag\nwigwagged\nwigwagging\nwigwags\nwigwam\nwigwams\nwikiup\nwikiups\nwilco\nwild\nwildcat\nwildcats\nwildcatted\nwildcatting\nwilder\nwildered\nwildering\nwilderness\nwildernesses\nwilders\nwildest\nwildfire\nwildfires\nwildfowl\nwildfowls\nwilding\nwildings\nwildish\nwildlife\nwildling\nwildlings\nwildly\nwildness\nwildnesses\nwilds\nwildwood\nwildwoods\nwile\nwiled\nwiles\nwilful\nwilfully\nwilier\nwiliest\nwilily\nwiliness\nwilinesses\nwiling\nwill\nwillable\nwilled\nwiller\nwillers\nwillet\nwillets\nwillful\nwillfully\nwillied\nwillies\nwilling\nwillinger\nwillingest\nwillingly\nwillingness\nwilliwau\nwilliwaus\nwilliwaw\nwilliwaws\nwillow\nwillowed\nwillower\nwillowers\nwillowier\nwillowiest\nwillowing\nwillows\nwillowy\nwillpower\nwillpowers\nwills\nwilly\nwillyard\nwillyart\nwillying\nwillywaw\nwillywaws\nwilt\nwilted\nwilting\nwilts\nwily\nwimble\nwimbled\nwimbles\nwimbling\nwimple\nwimpled\nwimples\nwimpling\nwin\nwince\nwinced\nwincer\nwincers\nwinces\nwincey\nwinceys\nwinch\nwinched\nwincher\nwinchers\nwinches\nwinching\nwincing\nwind\nwindable\nwindage\nwindages\nwindbag\nwindbags\nwindbreak\nwindbreaks\nwindburn\nwindburned\nwindburning\nwindburns\nwindburnt\nwinded\nwinder\nwinders\nwindfall\nwindfalls\nwindflaw\nwindflaws\nwindgall\nwindgalls\nwindier\nwindiest\nwindigo\nwindigos\nwindily\nwinding\nwindings\nwindlass\nwindlassed\nwindlasses\nwindlassing\nwindle\nwindled\nwindles\nwindless\nwindling\nwindlings\nwindmill\nwindmilled\nwindmilling\nwindmills\nwindow\nwindowed\nwindowing\nwindowless\nwindows\nwindpipe\nwindpipes\nwindrow\nwindrowed\nwindrowing\nwindrows\nwinds\nwindshield\nwindshields\nwindsock\nwindsocks\nwindup\nwindups\nwindward\nwindwards\nwindway\nwindways\nwindy\nwine\nwined\nwineless\nwineries\nwinery\nwines\nwineshop\nwineshops\nwineskin\nwineskins\nwinesop\nwinesops\nwiney\nwing\nwingback\nwingbacks\nwingbow\nwingbows\nwingding\nwingdings\nwinged\nwingedly\nwinger\nwingers\nwingier\nwingiest\nwinging\nwingless\nwinglet\nwinglets\nwinglike\nwingman\nwingmen\nwingover\nwingovers\nwings\nwingspan\nwingspans\nwingy\nwinier\nwiniest\nwining\nwinish\nwink\nwinked\nwinker\nwinkers\nwinking\nwinkle\nwinkled\nwinkles\nwinkling\nwinks\nwinnable\nwinned\nwinner\nwinners\nwinning\nwinnings\nwinnock\nwinnocks\nwinnow\nwinnowed\nwinnower\nwinnowers\nwinnowing\nwinnows\nwino\nwinoes\nwinos\nwins\nwinsome\nwinsomely\nwinsomeness\nwinsomenesses\nwinsomer\nwinsomest\nwinter\nwintered\nwinterer\nwinterers\nwintergreen\nwintergreens\nwinterier\nwinteriest\nwintering\nwinterly\nwinters\nwintertime\nwintertimes\nwintery\nwintle\nwintled\nwintles\nwintling\nwintrier\nwintriest\nwintrily\nwintry\nwiny\nwinze\nwinzes\nwipe\nwiped\nwipeout\nwipeouts\nwiper\nwipers\nwipes\nwiping\nwirable\nwire\nwired\nwiredraw\nwiredrawing\nwiredrawn\nwiredraws\nwiredrew\nwirehair\nwirehairs\nwireless\nwirelessed\nwirelesses\nwirelessing\nwirelike\nwireman\nwiremen\nwirer\nwirers\nwires\nwiretap\nwiretapped\nwiretapper\nwiretappers\nwiretapping\nwiretaps\nwireway\nwireways\nwirework\nwireworks\nwireworm\nwireworms\nwirier\nwiriest\nwirily\nwiriness\nwirinesses\nwiring\nwirings\nwirra\nwiry\nwis\nwisdom\nwisdoms\nwise\nwiseacre\nwiseacres\nwisecrack\nwisecracked\nwisecracking\nwisecracks\nwised\nwiselier\nwiseliest\nwisely\nwiseness\nwisenesses\nwisent\nwisents\nwiser\nwises\nwisest\nwish\nwisha\nwishbone\nwishbones\nwished\nwisher\nwishers\nwishes\nwishful\nwishing\nwishless\nwising\nwisp\nwisped\nwispier\nwispiest\nwispily\nwisping\nwispish\nwisplike\nwisps\nwispy\nwiss\nwissed\nwisses\nwissing\nwist\nwistaria\nwistarias\nwisted\nwisteria\nwisterias\nwistful\nwistfully\nwistfulness\nwistfulnesses\nwisting\nwists\nwit\nwitan\nwitch\nwitchcraft\nwitchcrafts\nwitched\nwitcheries\nwitchery\nwitches\nwitchier\nwitchiest\nwitching\nwitchings\nwitchy\nwite\nwited\nwiten\nwites\nwith\nwithal\nwithdraw\nwithdrawal\nwithdrawals\nwithdrawing\nwithdrawn\nwithdraws\nwithdrew\nwithe\nwithed\nwither\nwithered\nwitherer\nwitherers\nwithering\nwithers\nwithes\nwithheld\nwithhold\nwithholding\nwithholds\nwithier\nwithies\nwithiest\nwithin\nwithing\nwithins\nwithout\nwithouts\nwithstand\nwithstanding\nwithstands\nwithstood\nwithy\nwiting\nwitless\nwitlessly\nwitlessness\nwitlessnesses\nwitling\nwitlings\nwitloof\nwitloofs\nwitness\nwitnessed\nwitnesses\nwitnessing\nwitney\nwitneys\nwits\nwitted\nwitticism\nwitticisms\nwittier\nwittiest\nwittily\nwittiness\nwittinesses\nwitting\nwittingly\nwittings\nwittol\nwittols\nwitty\nwive\nwived\nwiver\nwivern\nwiverns\nwivers\nwives\nwiving\nwiz\nwizard\nwizardly\nwizardries\nwizardry\nwizards\nwizen\nwizened\nwizening\nwizens\nwizes\nwizzen\nwizzens\nwo\nwoad\nwoaded\nwoads\nwoadwax\nwoadwaxes\nwoald\nwoalds\nwobble\nwobbled\nwobbler\nwobblers\nwobbles\nwobblier\nwobblies\nwobbliest\nwobbling\nwobbly\nwobegone\nwoe\nwoebegone\nwoeful\nwoefuller\nwoefullest\nwoefully\nwoeness\nwoenesses\nwoes\nwoesome\nwoful\nwofully\nwok\nwoke\nwoken\nwoks\nwold\nwolds\nwolf\nwolfed\nwolfer\nwolfers\nwolffish\nwolffishes\nwolfing\nwolfish\nwolflike\nwolfram\nwolframs\nwolfs\nwolver\nwolverine\nwolverines\nwolvers\nwolves\nwoman\nwomaned\nwomanhood\nwomanhoods\nwomaning\nwomanise\nwomanised\nwomanises\nwomanish\nwomanising\nwomanize\nwomanized\nwomanizes\nwomanizing\nwomankind\nwomankinds\nwomanlier\nwomanliest\nwomanliness\nwomanlinesses\nwomanly\nwomans\nwomb\nwombat\nwombats\nwombed\nwombier\nwombiest\nwombs\nwomby\nwomen\nwomera\nwomeras\nwommera\nwommeras\nwomps\nwon\nwonder\nwondered\nwonderer\nwonderers\nwonderful\nwonderfully\nwonderfulness\nwonderfulnesses\nwondering\nwonderland\nwonderlands\nwonderment\nwonderments\nwonders\nwonderwoman\nwondrous\nwondrously\nwondrousness\nwondrousnesses\nwonkier\nwonkiest\nwonky\nwonned\nwonner\nwonners\nwonning\nwons\nwont\nwonted\nwontedly\nwonting\nwonton\nwontons\nwonts\nwoo\nwood\nwoodbin\nwoodbind\nwoodbinds\nwoodbine\nwoodbines\nwoodbins\nwoodbox\nwoodboxes\nwoodchat\nwoodchats\nwoodchopper\nwoodchoppers\nwoodchuck\nwoodchucks\nwoodcock\nwoodcocks\nwoodcraft\nwoodcrafts\nwoodcut\nwoodcuts\nwooded\nwooden\nwoodener\nwoodenest\nwoodenly\nwoodenness\nwoodennesses\nwoodhen\nwoodhens\nwoodier\nwoodiest\nwoodiness\nwoodinesses\nwooding\nwoodland\nwoodlands\nwoodlark\nwoodlarks\nwoodless\nwoodlore\nwoodlores\nwoodlot\nwoodlots\nwoodman\nwoodmen\nwoodnote\nwoodnotes\nwoodpecker\nwoodpeckers\nwoodpile\nwoodpiles\nwoodruff\nwoodruffs\nwoods\nwoodshed\nwoodshedded\nwoodshedding\nwoodsheds\nwoodsia\nwoodsias\nwoodsier\nwoodsiest\nwoodsman\nwoodsmen\nwoodsy\nwoodwax\nwoodwaxes\nwoodwind\nwoodwinds\nwoodwork\nwoodworks\nwoodworm\nwoodworms\nwoody\nwooed\nwooer\nwooers\nwoof\nwoofed\nwoofer\nwoofers\nwoofing\nwoofs\nwooing\nwooingly\nwool\nwooled\nwoolen\nwoolens\nwooler\nwoolers\nwoolfell\nwoolfells\nwoolgathering\nwoolgatherings\nwoolie\nwoolier\nwoolies\nwooliest\nwoollen\nwoollens\nwoollier\nwoollies\nwoolliest\nwoollike\nwoolly\nwoolman\nwoolmen\nwoolpack\nwoolpacks\nwools\nwoolsack\nwoolsacks\nwoolshed\nwoolsheds\nwoolskin\nwoolskins\nwooly\nwoomera\nwoomeras\nwoops\nwoorali\nwooralis\nwoorari\nwooraris\nwoos\nwoosh\nwooshed\nwooshes\nwooshing\nwoozier\nwooziest\nwoozily\nwooziness\nwoozinesses\nwoozy\nwop\nwops\nworcester\nword\nwordage\nwordages\nwordbook\nwordbooks\nworded\nwordier\nwordiest\nwordily\nwordiness\nwordinesses\nwording\nwordings\nwordless\nwordplay\nwordplays\nwords\nwordy\nwore\nwork\nworkability\nworkable\nworkableness\nworkablenesses\nworkaday\nworkbag\nworkbags\nworkbasket\nworkbaskets\nworkbench\nworkbenches\nworkboat\nworkboats\nworkbook\nworkbooks\nworkbox\nworkboxes\nworkday\nworkdays\nworked\nworker\nworkers\nworkfolk\nworkhorse\nworkhorses\nworkhouse\nworkhouses\nworking\nworkingman\nworkingmen\nworkings\nworkless\nworkload\nworkloads\nworkman\nworkmanlike\nworkmanship\nworkmanships\nworkmen\nworkout\nworkouts\nworkroom\nworkrooms\nworks\nworksheet\nworksheets\nworkshop\nworkshops\nworkup\nworkups\nworkweek\nworkweeks\nworld\nworldlier\nworldliest\nworldliness\nworldlinesses\nworldly\nworlds\nworldwide\nworm\nwormed\nwormer\nwormers\nwormhole\nwormholes\nwormier\nwormiest\nwormil\nwormils\nworming\nwormish\nwormlike\nwormroot\nwormroots\nworms\nwormseed\nwormseeds\nwormwood\nwormwoods\nwormy\nworn\nwornness\nwornnesses\nworried\nworrier\nworriers\nworries\nworrisome\nworrit\nworrited\nworriting\nworrits\nworry\nworrying\nworse\nworsen\nworsened\nworsening\nworsens\nworser\nworses\nworset\nworsets\nworship\nworshiped\nworshiper\nworshipers\nworshiping\nworshipped\nworshipper\nworshippers\nworshipping\nworships\nworst\nworsted\nworsteds\nworsting\nworsts\nwort\nworth\nworthed\nworthful\nworthier\nworthies\nworthiest\nworthily\nworthiness\nworthinesses\nworthing\nworthless\nworthlessness\nworthlessnesses\nworths\nworthwhile\nworthy\nworts\nwos\nwost\nwostteth\nwot\nwots\nwotted\nwotteth\nwotting\nwould\nwouldest\nwouldst\nwound\nwounded\nwounding\nwounds\nwove\nwoven\nwow\nwowed\nwowing\nwows\nwowser\nwowsers\nwrack\nwracked\nwrackful\nwracking\nwracks\nwraith\nwraiths\nwrang\nwrangle\nwrangled\nwrangler\nwranglers\nwrangles\nwrangling\nwrangs\nwrap\nwrapped\nwrapper\nwrappers\nwrapping\nwrappings\nwraps\nwrapt\nwrasse\nwrasses\nwrastle\nwrastled\nwrastles\nwrastling\nwrath\nwrathed\nwrathful\nwrathier\nwrathiest\nwrathily\nwrathing\nwraths\nwrathy\nwreak\nwreaked\nwreaker\nwreakers\nwreaking\nwreaks\nwreath\nwreathe\nwreathed\nwreathen\nwreathes\nwreathing\nwreaths\nwreathy\nwreck\nwreckage\nwreckages\nwrecked\nwrecker\nwreckers\nwreckful\nwrecking\nwreckings\nwrecks\nwren\nwrench\nwrenched\nwrenches\nwrenching\nwrens\nwrest\nwrested\nwrester\nwresters\nwresting\nwrestle\nwrestled\nwrestler\nwrestlers\nwrestles\nwrestling\nwrests\nwretch\nwretched\nwretcheder\nwretchedest\nwretchedness\nwretchednesses\nwretches\nwried\nwrier\nwries\nwriest\nwriggle\nwriggled\nwriggler\nwrigglers\nwriggles\nwrigglier\nwriggliest\nwriggling\nwriggly\nwright\nwrights\nwring\nwringed\nwringer\nwringers\nwringing\nwrings\nwrinkle\nwrinkled\nwrinkles\nwrinklier\nwrinkliest\nwrinkling\nwrinkly\nwrist\nwristier\nwristiest\nwristlet\nwristlets\nwrists\nwristy\nwrit\nwritable\nwrite\nwriter\nwriters\nwrites\nwrithe\nwrithed\nwrithen\nwrither\nwrithers\nwrithes\nwrithing\nwriting\nwritings\nwrits\nwritten\nwrong\nwrongdoer\nwrongdoers\nwrongdoing\nwrongdoings\nwronged\nwronger\nwrongers\nwrongest\nwrongful\nwrongfully\nwrongfulness\nwrongfulnesses\nwrongheaded\nwrongheadedly\nwrongheadedness\nwrongheadednesses\nwronging\nwrongly\nwrongs\nwrote\nwroth\nwrothful\nwrought\nwrung\nwry\nwryer\nwryest\nwrying\nwryly\nwryneck\nwrynecks\nwryness\nwrynesses\nwud\nwurst\nwursts\nwurzel\nwurzels\nwych\nwyches\nwye\nwyes\nwyle\nwyled\nwyles\nwyling\nwynd\nwynds\nwynn\nwynns\nwyte\nwyted\nwytes\nwyting\nwyvern\nwyverns\nxanthate\nxanthates\nxanthein\nxantheins\nxanthene\nxanthenes\nxanthic\nxanthin\nxanthine\nxanthines\nxanthins\nxanthoma\nxanthomas\nxanthomata\nxanthone\nxanthones\nxanthous\nxebec\nxebecs\nxenia\nxenial\nxenias\nxenic\nxenogamies\nxenogamy\nxenogenies\nxenogeny\nxenolith\nxenoliths\nxenon\nxenons\nxenophobe\nxenophobes\nxenophobia\nxerarch\nxeric\nxerosere\nxeroseres\nxeroses\nxerosis\nxerotic\nxerus\nxeruses\nxi\nxiphoid\nxiphoids\nxis\nxu\nxylan\nxylans\nxylem\nxylems\nxylene\nxylenes\nxylic\nxylidin\nxylidine\nxylidines\nxylidins\nxylocarp\nxylocarps\nxyloid\nxylol\nxylols\nxylophone\nxylophones\nxylophonist\nxylophonists\nxylose\nxyloses\nxylotomies\nxylotomy\nxylyl\nxylyls\nxyst\nxyster\nxysters\nxysti\nxystoi\nxystos\nxysts\nxystus\nya\nyabber\nyabbered\nyabbering\nyabbers\nyacht\nyachted\nyachter\nyachters\nyachting\nyachtings\nyachtman\nyachtmen\nyachts\nyack\nyacked\nyacking\nyacks\nyaff\nyaffed\nyaffing\nyaffs\nyager\nyagers\nyagi\nyagis\nyah\nyahoo\nyahooism\nyahooisms\nyahoos\nyaird\nyairds\nyak\nyakked\nyakking\nyaks\nyald\nyam\nyamen\nyamens\nyammer\nyammered\nyammerer\nyammerers\nyammering\nyammers\nyams\nyamun\nyamuns\nyang\nyangs\nyank\nyanked\nyanking\nyanks\nyanqui\nyanquis\nyap\nyapock\nyapocks\nyapok\nyapoks\nyapon\nyapons\nyapped\nyapper\nyappers\nyapping\nyappy\nyaps\nyar\nyard\nyardage\nyardages\nyardarm\nyardarms\nyardbird\nyardbirds\nyarded\nyarding\nyardman\nyardmen\nyards\nyardstick\nyardsticks\nyardwand\nyardwands\nyare\nyarely\nyarer\nyarest\nyarmelke\nyarmelkes\nyarmulke\nyarmulkes\nyarn\nyarned\nyarning\nyarns\nyarrow\nyarrows\nyashmac\nyashmacs\nyashmak\nyashmaks\nyasmak\nyasmaks\nyatagan\nyatagans\nyataghan\nyataghans\nyaud\nyauds\nyauld\nyaup\nyauped\nyauper\nyaupers\nyauping\nyaupon\nyaupons\nyaups\nyaw\nyawed\nyawing\nyawl\nyawled\nyawling\nyawls\nyawmeter\nyawmeters\nyawn\nyawned\nyawner\nyawners\nyawning\nyawns\nyawp\nyawped\nyawper\nyawpers\nyawping\nyawpings\nyawps\nyaws\nyay\nycleped\nyclept\nye\nyea\nyeah\nyealing\nyealings\nyean\nyeaned\nyeaning\nyeanling\nyeanlings\nyeans\nyear\nyearbook\nyearbooks\nyearlies\nyearling\nyearlings\nyearlong\nyearly\nyearn\nyearned\nyearner\nyearners\nyearning\nyearnings\nyearns\nyears\nyeas\nyeast\nyeasted\nyeastier\nyeastiest\nyeastily\nyeasting\nyeasts\nyeasty\nyeelin\nyeelins\nyegg\nyeggman\nyeggmen\nyeggs\nyeh\nyeld\nyelk\nyelks\nyell\nyelled\nyeller\nyellers\nyelling\nyellow\nyellowed\nyellower\nyellowest\nyellowing\nyellowly\nyellows\nyellowy\nyells\nyelp\nyelped\nyelper\nyelpers\nyelping\nyelps\nyen\nyenned\nyenning\nyens\nyenta\nyentas\nyeoman\nyeomanly\nyeomanries\nyeomanry\nyeomen\nyep\nyerba\nyerbas\nyerk\nyerked\nyerking\nyerks\nyes\nyeses\nyeshiva\nyeshivah\nyeshivahs\nyeshivas\nyeshivoth\nyessed\nyesses\nyessing\nyester\nyesterday\nyesterdays\nyestern\nyestreen\nyestreens\nyet\nyeti\nyetis\nyett\nyetts\nyeuk\nyeuked\nyeuking\nyeuks\nyeuky\nyew\nyews\nyid\nyids\nyield\nyielded\nyielder\nyielders\nyielding\nyields\nyill\nyills\nyin\nyince\nyins\nyip\nyipe\nyipes\nyipped\nyippee\nyippie\nyippies\nyipping\nyips\nyird\nyirds\nyirr\nyirred\nyirring\nyirrs\nyirth\nyirths\nyod\nyodel\nyodeled\nyodeler\nyodelers\nyodeling\nyodelled\nyodeller\nyodellers\nyodelling\nyodels\nyodh\nyodhs\nyodle\nyodled\nyodler\nyodlers\nyodles\nyodling\nyods\nyoga\nyogas\nyogee\nyogees\nyogh\nyoghourt\nyoghourts\nyoghs\nyoghurt\nyoghurts\nyogi\nyogic\nyogin\nyogini\nyoginis\nyogins\nyogis\nyogurt\nyogurts\nyoicks\nyoke\nyoked\nyokel\nyokeless\nyokelish\nyokels\nyokemate\nyokemates\nyokes\nyoking\nyolk\nyolked\nyolkier\nyolkiest\nyolks\nyolky\nyom\nyomim\nyon\nyond\nyonder\nyoni\nyonis\nyonker\nyonkers\nyore\nyores\nyou\nyoung\nyounger\nyoungers\nyoungest\nyoungish\nyoungs\nyoungster\nyoungsters\nyounker\nyounkers\nyoupon\nyoupons\nyour\nyourn\nyours\nyourself\nyourselves\nyouse\nyouth\nyouthen\nyouthened\nyouthening\nyouthens\nyouthful\nyouthfully\nyouthfulness\nyouthfulnesses\nyouths\nyow\nyowe\nyowed\nyowes\nyowie\nyowies\nyowing\nyowl\nyowled\nyowler\nyowlers\nyowling\nyowls\nyows\nyperite\nyperites\nytterbia\nytterbias\nytterbic\nyttria\nyttrias\nyttric\nyttrium\nyttriums\nyuan\nyuans\nyucca\nyuccas\nyuga\nyugas\nyuk\nyukked\nyukking\nyuks\nyulan\nyulans\nyule\nyules\nyuletide\nyuletides\nyummier\nyummies\nyummiest\nyummy\nyup\nyupon\nyupons\nyurt\nyurta\nyurts\nywis\nzabaione\nzabaiones\nzabajone\nzabajones\nzacaton\nzacatons\nzaddik\nzaddikim\nzaffar\nzaffars\nzaffer\nzaffers\nzaffir\nzaffirs\nzaffre\nzaffres\nzaftig\nzag\nzagged\nzagging\nzags\nzaibatsu\nzaire\nzaires\nzamarra\nzamarras\nzamarro\nzamarros\nzamia\nzamias\nzamindar\nzamindars\nzanana\nzananas\nzander\nzanders\nzanier\nzanies\nzaniest\nzanily\nzaniness\nzaninesses\nzany\nzanyish\nzanza\nzanzas\nzap\nzapateo\nzapateos\nzapped\nzapping\nzaps\nzaptiah\nzaptiahs\nzaptieh\nzaptiehs\nzaratite\nzaratites\nzareba\nzarebas\nzareeba\nzareebas\nzarf\nzarfs\nzariba\nzaribas\nzarzuela\nzarzuelas\nzastruga\nzastrugi\nzax\nzaxes\nzayin\nzayins\nzeal\nzealot\nzealotries\nzealotry\nzealots\nzealous\nzealously\nzealousness\nzealousnesses\nzeals\nzeatin\nzeatins\nzebec\nzebeck\nzebecks\nzebecs\nzebra\nzebraic\nzebras\nzebrass\nzebrasses\nzebrine\nzebroid\nzebu\nzebus\nzecchin\nzecchini\nzecchino\nzecchinos\nzecchins\nzechin\nzechins\nzed\nzedoaries\nzedoary\nzeds\nzee\nzees\nzein\nzeins\nzeitgeist\nzeitgeists\nzelkova\nzelkovas\nzemindar\nzemindars\nzemstvo\nzemstvos\nzenana\nzenanas\nzenith\nzenithal\nzeniths\nzeolite\nzeolites\nzeolitic\nzephyr\nzephyrs\nzeppelin\nzeppelins\nzero\nzeroed\nzeroes\nzeroing\nzeros\nzest\nzested\nzestful\nzestfully\nzestfulness\nzestfulnesses\nzestier\nzestiest\nzesting\nzests\nzesty\nzeta\nzetas\nzeugma\nzeugmas\nzibeline\nzibelines\nzibet\nzibeth\nzibeths\nzibets\nzig\nzigged\nzigging\nziggurat\nziggurats\nzigs\nzigzag\nzigzagged\nzigzagging\nzigzags\nzikkurat\nzikkurats\nzikurat\nzikurats\nzilch\nzilches\nzillah\nzillahs\nzillion\nzillions\nzinc\nzincate\nzincates\nzinced\nzincic\nzincified\nzincifies\nzincify\nzincifying\nzincing\nzincite\nzincites\nzincked\nzincking\nzincky\nzincoid\nzincous\nzincs\nzincy\nzing\nzingani\nzingano\nzingara\nzingare\nzingari\nzingaro\nzinged\nzingier\nzingiest\nzinging\nzings\nzingy\nzinkified\nzinkifies\nzinkify\nzinkifying\nzinky\nzinnia\nzinnias\nzip\nzipped\nzipper\nzippered\nzippering\nzippers\nzippier\nzippiest\nzipping\nzippy\nzips\nziram\nzirams\nzircon\nzirconia\nzirconias\nzirconic\nzirconium\nzirconiums\nzircons\nzither\nzithern\nzitherns\nzithers\nziti\nzitis\nzizith\nzizzle\nzizzled\nzizzles\nzizzling\nzloty\nzlotys\nzoa\nzoaria\nzoarial\nzoarium\nzodiac\nzodiacal\nzodiacs\nzoea\nzoeae\nzoeal\nzoeas\nzoftig\nzoic\nzoisite\nzoisites\nzombi\nzombie\nzombies\nzombiism\nzombiisms\nzombis\nzonal\nzonally\nzonary\nzonate\nzonated\nzonation\nzonations\nzone\nzoned\nzoneless\nzoner\nzoners\nzones\nzonetime\nzonetimes\nzoning\nzonked\nzonula\nzonulae\nzonular\nzonulas\nzonule\nzonules\nzoo\nzoochore\nzoochores\nzoogenic\nzooglea\nzoogleae\nzoogleal\nzoogleas\nzoogloea\nzoogloeae\nzoogloeas\nzooid\nzooidal\nzooids\nzooks\nzoolater\nzoolaters\nzoolatries\nzoolatry\nzoologic\nzoological\nzoologies\nzoologist\nzoologists\nzoology\nzoom\nzoomania\nzoomanias\nzoomed\nzoometries\nzoometry\nzooming\nzoomorph\nzoomorphs\nzooms\nzoon\nzoonal\nzoonoses\nzoonosis\nzoonotic\nzoons\nzoophile\nzoophiles\nzoophyte\nzoophytes\nzoos\nzoosperm\nzoosperms\nzoospore\nzoospores\nzootomic\nzootomies\nzootomy\nzori\nzoril\nzorilla\nzorillas\nzorille\nzorilles\nzorillo\nzorillos\nzorils\nzoster\nzosters\nzouave\nzouaves\nzounds\nzowie\nzoysia\nzoysias\nzucchini\nzucchinis\nzwieback\nzwiebacks\nzygoma\nzygomas\nzygomata\nzygose\nzygoses\nzygosis\nzygosities\nzygosity\nzygote\nzygotene\nzygotenes\nzygotes\nzygotic\nzymase\nzymases\nzyme\nzymes\nzymogen\nzymogene\nzymogenes\nzymogens\nzymologies\nzymology\nzymoses\nzymosis\nzymotic\nzymurgies\nzymurgy\n\n"
     ]
    },
    {
     "output_type": "error",
     "ename": "TypeError",
     "evalue": "print_generic_list() missing 2 required positional arguments: 'list_items_category_name' and 'list_to_print'",
     "traceback": [
      "\u001b[1;31m---------------------------------------------------------------------------\u001b[0m",
      "\u001b[1;31mTypeError\u001b[0m                                 Traceback (most recent call last)",
      "\u001b[1;32m<ipython-input-63-970bb1d3fa91>\u001b[0m in \u001b[0;36m<module>\u001b[1;34m\u001b[0m\n\u001b[0;32m      3\u001b[0m \u001b[1;33m\u001b[0m\u001b[0m\n\u001b[0;32m      4\u001b[0m \u001b[1;32mif\u001b[0m \u001b[0m__name__\u001b[0m \u001b[1;33m==\u001b[0m \u001b[1;34m'__main__'\u001b[0m\u001b[1;33m:\u001b[0m\u001b[1;33m\u001b[0m\u001b[1;33m\u001b[0m\u001b[0m\n\u001b[1;32m----> 5\u001b[1;33m     \u001b[0mmain\u001b[0m\u001b[1;33m(\u001b[0m\u001b[1;33m)\u001b[0m\u001b[1;33m\u001b[0m\u001b[1;33m\u001b[0m\u001b[0m\n\u001b[0m",
      "\u001b[1;32m<ipython-input-62-7901c6616280>\u001b[0m in \u001b[0;36mmain\u001b[1;34m()\u001b[0m\n\u001b[0;32m     16\u001b[0m                 \u001b[0mwords_dictionary\u001b[0m \u001b[1;33m=\u001b[0m \u001b[0mfile_open\u001b[0m\u001b[1;33m.\u001b[0m\u001b[0mread\u001b[0m\u001b[1;33m(\u001b[0m\u001b[1;33m)\u001b[0m\u001b[1;33m\u001b[0m\u001b[1;33m\u001b[0m\u001b[0m\n\u001b[0;32m     17\u001b[0m                 \u001b[1;31m# Within the words dictionary, find anagrams that match the user word\u001b[0m\u001b[1;33m\u001b[0m\u001b[1;33m\u001b[0m\u001b[1;33m\u001b[0m\u001b[0m\n\u001b[1;32m---> 18\u001b[1;33m                 \u001b[0mfind_anagrams\u001b[0m\u001b[1;33m(\u001b[0m\u001b[0muser_word\u001b[0m\u001b[1;33m,\u001b[0m \u001b[0mwords_dictionary\u001b[0m\u001b[1;33m)\u001b[0m\u001b[1;33m\u001b[0m\u001b[1;33m\u001b[0m\u001b[0m\n\u001b[0m\u001b[0;32m     19\u001b[0m             \u001b[1;32melif\u001b[0m \u001b[0mactivity\u001b[0m \u001b[1;33m==\u001b[0m \u001b[1;34m'B'\u001b[0m\u001b[1;33m:\u001b[0m\u001b[1;33m\u001b[0m\u001b[1;33m\u001b[0m\u001b[0m\n\u001b[0;32m     20\u001b[0m                 \u001b[0mfind_palindromes\u001b[0m\u001b[1;33m(\u001b[0m\u001b[1;33m)\u001b[0m\u001b[1;33m\u001b[0m\u001b[1;33m\u001b[0m\u001b[0m\n",
      "\u001b[1;32m<ipython-input-54-bea700b8f9c3>\u001b[0m in \u001b[0;36mfind_anagrams\u001b[1;34m(word_for_search, search_list_dictionary)\u001b[0m\n\u001b[0;32m      3\u001b[0m     \u001b[0mprint\u001b[0m\u001b[1;33m(\u001b[0m\u001b[0mlen\u001b[0m\u001b[1;33m(\u001b[0m\u001b[0mword_for_search\u001b[0m\u001b[1;33m)\u001b[0m\u001b[1;33m)\u001b[0m\u001b[1;33m\u001b[0m\u001b[1;33m\u001b[0m\u001b[0m\n\u001b[0;32m      4\u001b[0m     \u001b[0mprint\u001b[0m\u001b[1;33m(\u001b[0m\u001b[0msearch_list_dictionary\u001b[0m\u001b[1;33m)\u001b[0m\u001b[1;33m\u001b[0m\u001b[1;33m\u001b[0m\u001b[0m\n\u001b[1;32m----> 5\u001b[1;33m     \u001b[0mprint_generic_list\u001b[0m\u001b[1;33m(\u001b[0m\u001b[1;33m)\u001b[0m\u001b[1;33m\u001b[0m\u001b[1;33m\u001b[0m\u001b[0m\n\u001b[0m\u001b[0;32m      6\u001b[0m \u001b[1;33m\u001b[0m\u001b[0m\n",
      "\u001b[1;31mTypeError\u001b[0m: print_generic_list() missing 2 required positional arguments: 'list_items_category_name' and 'list_to_print'"
     ]
    }
   ],
   "source": [
    "import sys\n",
    "activity=''\n",
    "\n",
    "if __name__ == '__main__':\n",
    "    main()"
   ]
  },
  {
   "cell_type": "markdown",
   "metadata": {},
   "source": [
    "# VERY IMPORTANT SUBMISSION INFORMATION\n",
    "\n",
    "<h2>When you submit the file you must submit it having been run. You should run the file, complete Activity 1, Activity 2 and Activity 3. All results should be visible in you submission when it is opened.</h2>\n",
    "\n",
    "<h2 style=\"color:red\">If the marker must run your file when you mark it there will be an immediate 10% penalty on your final mark.</h2>\n",
    "\n",
    "# Reflective Task\n",
    "\n",
    "The activity of finding and manipulating anagrams, palindromes, and palingrams will not be a frequent activity in your daily professional tasks. However, the skills learned to achieve this, manipulating and find data are very transferable to working with large datasets. All of the study streams will need to be able to access, manipulate, analyse and search large data files e.g  event logs, data feeds e.g large twitter datasets, hidden file directories or properties.\n",
    "\n",
    "Having now completed this task, you have identified the knowledge areas and skills you needed. You will also have identified which skills you are strong and weak in. In the below markdown tab, reflect on the following:\n",
    "\n",
    "1. Which skills were you strongest in?\n",
    "2. Which skills are you weakest in?\n",
    "3. How do you think you can improve these skills?\n",
    "4. In detail, how do you think the course's learning material could be improved to further support you and your skill development?\n",
    "5. Was there anything you very strongly liked or disliked in the course?\n",
    "\n",
    "**The reflection should be a minimum of 200 words. You can reflect in a single discussion or under each heading. The headers do NOT count towards the 200-word minimum.**"
   ]
  },
  {
   "cell_type": "markdown",
   "metadata": {},
   "source": [
    "Reflect here. Replace this text."
   ]
  },
  {
   "cell_type": "markdown",
   "metadata": {},
   "source": [
    "# Marking and Assessment\n",
    "\n",
    "### The Marking Guide is available in the assignments PDF.\n",
    "\n",
    "**IMPORTANT: If you do not submit the reflective answer you immediately receive zero.**\n",
    "\n",
    "Feedback for this assessment and a breakdown of the final grade will be provided via the LMS (Moodle). "
   ]
  },
  {
   "cell_type": "code",
   "execution_count": null,
   "metadata": {},
   "outputs": [],
   "source": []
  }
 ],
 "metadata": {
  "kernelspec": {
   "name": "Python 3.9.0 64-bit",
   "display_name": "Python 3.9.0 64-bit",
   "metadata": {
    "interpreter": {
     "hash": "489ab7b16ba9aa1e029c8821d2344fbbd4205af5b45be750fb3882cbf2bdb881"
    }
   }
  },
  "language_info": {
   "codemirror_mode": {
    "name": "ipython",
    "version": 3
   },
   "file_extension": ".py",
   "mimetype": "text/x-python",
   "name": "python",
   "nbconvert_exporter": "python",
   "pygments_lexer": "ipython3",
   "version": "3.9.0-final"
  }
 },
 "nbformat": 4,
 "nbformat_minor": 4
}