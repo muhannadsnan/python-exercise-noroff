{
 "cells": [
  {
   "source": [
    "<style>\n",
    "    .heading{\n",
    "        color: #60e0b1; \n",
    "        font-size: 100px; \n",
    "        text-align: center; \n",
    "        padding: 0; \n",
    "        margin: 0; \n",
    "        border: 5px solid #60e0b1; \n",
    "        border-radius: 10px;\n",
    "    }\n",
    "    .heading:hover{\n",
    "        background: #60e0b1; \n",
    "        color: #222;\n",
    "    }\n",
    "</style>\n",
    "\n",
    "<h1 class=\"heading\">\n",
    "    Delivery\n",
    "</h1>"
   ],
   "cell_type": "markdown",
   "metadata": {}
  },
  {
   "source": [
    "## Fully Defined Functions - DO NOT CHANGE\n",
    "\n",
    "Each of the functions in this section includes functions which are provided fully functional. The should not be altered in any way. Only use them.\n",
    "\n",
    "#### print_explanation()\n",
    "The function to print out the programs functionality explanation."
   ],
   "cell_type": "markdown",
   "metadata": {}
  },
  {
   "cell_type": "code",
   "execution_count": 206,
   "metadata": {},
   "outputs": [],
   "source": [
    "def print_explanation():\n",
    "    print(\n",
    "        '''\n",
    "        An anagram is a word or phrase formed by rearranging the letters of a different word or phrase, \n",
    "        typically using all the original letters exactly once. It can however us on a few of the letters.    \n",
    "        A palindrome is a word, number, phrase, or other sequence of characters which reads the same \n",
    "        backward as forward, such as \"madam\" or \"racecar\".\n",
    "    \n",
    "        A palingram – a letter palingram. A palingram can also be created using syllables\n",
    "        or words, in addition to individual letters. An example of this using words is, “He was, was he?” \n",
    "        Notice that the words can be reversed and the sentence still reads the same. \n",
    "        A sentence that is a palingram and a palindrome is, “I did, did I”  \n",
    "        \n",
    "        This application allows three activities.\n",
    "    \n",
    "          Activity A: Finds the anagrams for any word you enter. Then identifies palindromes, if there are any, \n",
    "                      in the identified anagrams. \n",
    "    \n",
    "          Activity B: Finds all the word pairs in the dictionary list which form palingrams. \n",
    "                      The palingrams ignore spaces and hyphens.   \n",
    "                      \n",
    "          Activity C: Find all the palindromes in the dictionary.\n",
    "          ''')"
   ]
  },
  {
   "cell_type": "markdown",
   "metadata": {},
   "source": [
    "#### load(file)\n",
    "Loads a text file as a list.\n",
    "\n",
    "Arguments:\n",
    "-text file name\n",
    "\n",
    "Exceptions:\n",
    "-IOError if filename not found.\n",
    "\n",
    "Returns:\n",
    "-A list of all words in text file in lower case.\n",
    "\n",
    "Requires-import sys"
   ]
  },
  {
   "cell_type": "code",
   "execution_count": 207,
   "metadata": {},
   "outputs": [],
   "source": [
    "def load(file):\n",
    "    \"\"\"Open a text file & turn contents into a list of lowercase strings.\"\"\"\n",
    "    try:\n",
    "        with open(file) as in_file:\n",
    "            loaded_txt = in_file.read().strip().split('\\n')\n",
    "            loaded_txt = [x.lower() for x in loaded_txt]\n",
    "            return loaded_txt\n",
    "    except IOError as e:\n",
    "        print(\"{}\\nError opening {}. Terminating program.\".format(e, file),\n",
    "              file=sys.stderr)\n",
    "        sys.exit(1)"
   ]
  },
  {
   "cell_type": "markdown",
   "metadata": {},
   "source": [
    "## Functions which you must complete\n",
    "Replace the ***pass*** with the code required in each method or procedure. Consider the requirements for Activity A, Activity B and Activity C when doing this. Several of the functions are used in multiple tasks. Reusability is a key part of defining and using the functions."
   ]
  },
  {
   "cell_type": "markdown",
   "metadata": {},
   "source": [
    "#### find_anagrams(word_for_search, search_list_dictionary):\n",
    "Find dictionary palingrams."
   ]
  },
  {
   "cell_type": "code",
   "execution_count": 208,
   "metadata": {},
   "outputs": [],
   "source": [
    "def find_anagrams(word_for_search, search_list_dictionary):\n",
    "    # Prompt asking for user word to search\n",
    "    print('Enter a word to be used in the anagram search:')\n",
    "    word = input()\n",
    "    print('Using word = ' + word)"
   ]
  },
  {
   "cell_type": "markdown",
   "metadata": {},
   "source": [
    "#### find_palindromes(anagram_list)\n",
    "Find palindromes in the anagrams list."
   ]
  },
  {
   "cell_type": "code",
   "execution_count": 211,
   "metadata": {},
   "outputs": [],
   "source": [
    "def find_palindromes(anagram_list):\n",
    "    \"\"\"Find palindromes in the anagrams list.\"\"\"\n",
    "    pass"
   ]
  },
  {
   "cell_type": "markdown",
   "metadata": {},
   "source": [
    "#### find_palingrams(dictionary_list)\n",
    "Find dictionary palingrams."
   ]
  },
  {
   "cell_type": "code",
   "execution_count": 209,
   "metadata": {},
   "outputs": [],
   "source": [
    "def find_palingrams(dictionary_list):\n",
    "\n",
    "    pass\n"
   ]
  },
  {
   "cell_type": "markdown",
   "metadata": {},
   "source": [
    "#### print_generic_list(list_items_category_name, list_to_print):\n",
    "Print a list of the items in any list passed to the function. Use the first parameter to describe the list."
   ]
  },
  {
   "cell_type": "code",
   "execution_count": 210,
   "metadata": {},
   "outputs": [],
   "source": [
    "def print_generic_list(list_items_category_name, list_to_print):\n",
    "    pass"
   ]
  },
  {
   "cell_type": "markdown",
   "metadata": {},
   "source": [
    "#### print_pairs_of_twos(dictionary_of_pairs):\n",
    "Print the keywords and values of an dictionary passed to the method."
   ]
  },
  {
   "cell_type": "code",
   "execution_count": 212,
   "metadata": {},
   "outputs": [],
   "source": [
    "def print_pairs_of_twos(dictionary_of_pairs):\n",
    "    \"\"\"Print the keywords and values of an dictionary passed to the method.\"\"\"\n",
    "    pass"
   ]
  },
  {
   "cell_type": "markdown",
   "metadata": {},
   "source": [
    "#### write_anagrams_palindromes_to_file(original_word, anagrams_list, palindromes_list):\n",
    "Write the lists of anagrams and the palindromes to a file.Use the original word in the file names and descriptions."
   ]
  },
  {
   "cell_type": "code",
   "execution_count": 213,
   "metadata": {},
   "outputs": [],
   "source": [
    "def write_anagrams_palindromes_to_file(original_word, anagrams_list, palindromes_list):\n",
    "    pass"
   ]
  },
  {
   "cell_type": "markdown",
   "metadata": {},
   "source": [
    "#### write_palingrams_to_file(palingram_list):\n",
    "Write the lists of palingrams to a file."
   ]
  },
  {
   "source": [
    "def write_palingrams_to_file(palingram_list):\n",
    "    \"\"\"Write the lists of palingrams to a file.\"\"\"\n",
    "    pass\n"
   ],
   "cell_type": "code",
   "metadata": {},
   "execution_count": 214,
   "outputs": []
  },
  {
   "cell_type": "markdown",
   "metadata": {},
   "source": [
    "## Variable Block and Main()\n",
    "The below code block is where where import statements and any variables which should be global should be declared.And if necessary manipulated for global use."
   ]
  },
  {
   "cell_type": "code",
   "execution_count": 215,
   "metadata": {},
   "outputs": [],
   "source": [
    "import sys\n",
    "\n",
    "activity=''"
   ]
  },
  {
   "cell_type": "code",
   "execution_count": 216,
   "metadata": {},
   "outputs": [],
   "source": [
    "def explanation_prompt():\n",
    "    # Starting up with showing explanation of the program so that the user has an overview over what it is about\n",
    "    #print_explanation()\n",
    "\n",
    "    # Now asking the user for desired input\n",
    "    print('Choose activity A, B, or C. to run the process enter the appropriate letter. Else enter # to exit the application. \\nEnter choice:')\n",
    "\n",
    "    # Use the global variable \"activity\" to take the input of the user\n",
    "    global activity\n",
    "    activity = input()"
   ]
  },
  {
   "cell_type": "code",
   "execution_count": 218,
   "metadata": {},
   "outputs": [],
   "source": [
    "def main():\n",
    "    # Keep showing the explanation & asking the user for input, unless '#' is entered    \n",
    "    while activity != '#':\n",
    "        # Show explanation & user input \n",
    "        explanation_prompt()\n",
    "\n",
    "        # No valid choice entered by the user, no access to the program's activities\n",
    "        if activity.isalpha():\n",
    "            # Valid choice entered, execute the desired activity\n",
    "            if activity == 'A':\n",
    "                find_anagrams()\n",
    "            elif activity == 'B':\n",
    "                find_palindromes()\n",
    "            elif activity == 'C':\n",
    "                find_palingrams()\n",
    "        else:\n",
    "            print(activity+' Invalid input..')"
   ]
  },
  {
   "cell_type": "code",
   "execution_count": 219,
   "metadata": {
    "tags": []
   },
   "outputs": [
    {
     "output_type": "stream",
     "name": "stdout",
     "text": [
      "Choose activity A, B, or C. to run the process enter the appropriate letter. Else enter # to exit the application. \n",
      "Enter choice:\n",
      "4 Invalid input..\n",
      "Choose activity A, B, or C. to run the process enter the appropriate letter. Else enter # to exit the application. \n",
      "Enter choice:\n",
      "Choose activity A, B, or C. to run the process enter the appropriate letter. Else enter # to exit the application. \n",
      "Enter choice:\n",
      "- Invalid input..\n",
      "Choose activity A, B, or C. to run the process enter the appropriate letter. Else enter # to exit the application. \n",
      "Enter choice:\n",
      "Enter a word to be used in the anagram search:\n",
      "Using word =ff\n",
      "Choose activity A, B, or C. to run the process enter the appropriate letter. Else enter # to exit the application. \n",
      "Enter choice:\n"
     ]
    },
    {
     "output_type": "error",
     "ename": "KeyboardInterrupt",
     "evalue": "Interrupted by user",
     "traceback": [
      "\u001b[1;31m---------------------------------------------------------------------------\u001b[0m",
      "\u001b[1;31mKeyboardInterrupt\u001b[0m                         Traceback (most recent call last)",
      "\u001b[1;32m<ipython-input-219-c7bc734e5e35>\u001b[0m in \u001b[0;36m<module>\u001b[1;34m\u001b[0m\n\u001b[0;32m      1\u001b[0m \u001b[1;32mif\u001b[0m \u001b[0m__name__\u001b[0m \u001b[1;33m==\u001b[0m \u001b[1;34m'__main__'\u001b[0m\u001b[1;33m:\u001b[0m\u001b[1;33m\u001b[0m\u001b[1;33m\u001b[0m\u001b[0m\n\u001b[1;32m----> 2\u001b[1;33m     \u001b[0mmain\u001b[0m\u001b[1;33m(\u001b[0m\u001b[1;33m)\u001b[0m\u001b[1;33m\u001b[0m\u001b[1;33m\u001b[0m\u001b[0m\n\u001b[0m",
      "\u001b[1;32m<ipython-input-218-ea5232cf357f>\u001b[0m in \u001b[0;36mmain\u001b[1;34m()\u001b[0m\n\u001b[0;32m      3\u001b[0m     \u001b[1;32mwhile\u001b[0m \u001b[0mactivity\u001b[0m \u001b[1;33m!=\u001b[0m \u001b[1;34m'#'\u001b[0m\u001b[1;33m:\u001b[0m\u001b[1;33m\u001b[0m\u001b[1;33m\u001b[0m\u001b[0m\n\u001b[0;32m      4\u001b[0m         \u001b[1;31m# Show explanation & user input\u001b[0m\u001b[1;33m\u001b[0m\u001b[1;33m\u001b[0m\u001b[1;33m\u001b[0m\u001b[0m\n\u001b[1;32m----> 5\u001b[1;33m         \u001b[0mexplanation_prompt\u001b[0m\u001b[1;33m(\u001b[0m\u001b[1;33m)\u001b[0m\u001b[1;33m\u001b[0m\u001b[1;33m\u001b[0m\u001b[0m\n\u001b[0m\u001b[0;32m      6\u001b[0m \u001b[1;33m\u001b[0m\u001b[0m\n\u001b[0;32m      7\u001b[0m         \u001b[1;31m# No valid choice entered by the user, no access to the program's activities\u001b[0m\u001b[1;33m\u001b[0m\u001b[1;33m\u001b[0m\u001b[1;33m\u001b[0m\u001b[0m\n",
      "\u001b[1;32m<ipython-input-216-83b154753004>\u001b[0m in \u001b[0;36mexplanation_prompt\u001b[1;34m()\u001b[0m\n\u001b[0;32m      8\u001b[0m     \u001b[1;31m# Use the global variable \"activity\" to take the input of the user\u001b[0m\u001b[1;33m\u001b[0m\u001b[1;33m\u001b[0m\u001b[1;33m\u001b[0m\u001b[0m\n\u001b[0;32m      9\u001b[0m     \u001b[1;32mglobal\u001b[0m \u001b[0mactivity\u001b[0m\u001b[1;33m\u001b[0m\u001b[1;33m\u001b[0m\u001b[0m\n\u001b[1;32m---> 10\u001b[1;33m     \u001b[0mactivity\u001b[0m \u001b[1;33m=\u001b[0m \u001b[0minput\u001b[0m\u001b[1;33m(\u001b[0m\u001b[1;33m)\u001b[0m\u001b[1;33m\u001b[0m\u001b[1;33m\u001b[0m\u001b[0m\n\u001b[0m",
      "\u001b[1;32m~\\AppData\\Roaming\\Python\\Python39\\site-packages\\ipykernel\\kernelbase.py\u001b[0m in \u001b[0;36mraw_input\u001b[1;34m(self, prompt)\u001b[0m\n\u001b[0;32m    858\u001b[0m                 \u001b[1;34m\"raw_input was called, but this frontend does not support input requests.\"\u001b[0m\u001b[1;33m\u001b[0m\u001b[1;33m\u001b[0m\u001b[0m\n\u001b[0;32m    859\u001b[0m             )\n\u001b[1;32m--> 860\u001b[1;33m         return self._input_request(str(prompt),\n\u001b[0m\u001b[0;32m    861\u001b[0m             \u001b[0mself\u001b[0m\u001b[1;33m.\u001b[0m\u001b[0m_parent_ident\u001b[0m\u001b[1;33m,\u001b[0m\u001b[1;33m\u001b[0m\u001b[1;33m\u001b[0m\u001b[0m\n\u001b[0;32m    862\u001b[0m             \u001b[0mself\u001b[0m\u001b[1;33m.\u001b[0m\u001b[0m_parent_header\u001b[0m\u001b[1;33m,\u001b[0m\u001b[1;33m\u001b[0m\u001b[1;33m\u001b[0m\u001b[0m\n",
      "\u001b[1;32m~\\AppData\\Roaming\\Python\\Python39\\site-packages\\ipykernel\\kernelbase.py\u001b[0m in \u001b[0;36m_input_request\u001b[1;34m(self, prompt, ident, parent, password)\u001b[0m\n\u001b[0;32m    902\u001b[0m             \u001b[1;32mexcept\u001b[0m \u001b[0mKeyboardInterrupt\u001b[0m\u001b[1;33m:\u001b[0m\u001b[1;33m\u001b[0m\u001b[1;33m\u001b[0m\u001b[0m\n\u001b[0;32m    903\u001b[0m                 \u001b[1;31m# re-raise KeyboardInterrupt, to truncate traceback\u001b[0m\u001b[1;33m\u001b[0m\u001b[1;33m\u001b[0m\u001b[1;33m\u001b[0m\u001b[0m\n\u001b[1;32m--> 904\u001b[1;33m                 \u001b[1;32mraise\u001b[0m \u001b[0mKeyboardInterrupt\u001b[0m\u001b[1;33m(\u001b[0m\u001b[1;34m\"Interrupted by user\"\u001b[0m\u001b[1;33m)\u001b[0m \u001b[1;32mfrom\u001b[0m \u001b[1;32mNone\u001b[0m\u001b[1;33m\u001b[0m\u001b[1;33m\u001b[0m\u001b[0m\n\u001b[0m\u001b[0;32m    905\u001b[0m             \u001b[1;32mexcept\u001b[0m \u001b[0mException\u001b[0m \u001b[1;32mas\u001b[0m \u001b[0me\u001b[0m\u001b[1;33m:\u001b[0m\u001b[1;33m\u001b[0m\u001b[1;33m\u001b[0m\u001b[0m\n\u001b[0;32m    906\u001b[0m                 \u001b[0mself\u001b[0m\u001b[1;33m.\u001b[0m\u001b[0mlog\u001b[0m\u001b[1;33m.\u001b[0m\u001b[0mwarning\u001b[0m\u001b[1;33m(\u001b[0m\u001b[1;34m\"Invalid Message:\"\u001b[0m\u001b[1;33m,\u001b[0m \u001b[0mexc_info\u001b[0m\u001b[1;33m=\u001b[0m\u001b[1;32mTrue\u001b[0m\u001b[1;33m)\u001b[0m\u001b[1;33m\u001b[0m\u001b[1;33m\u001b[0m\u001b[0m\n",
      "\u001b[1;31mKeyboardInterrupt\u001b[0m: Interrupted by user"
     ]
    }
   ],
   "source": [
    "if __name__ == '__main__':\n",
    "    main()"
   ]
  },
  {
   "cell_type": "markdown",
   "metadata": {},
   "source": [
    "# VERY IMPORTANT SUBMISSION INFORMATION\n",
    "\n",
    "<h2>When you submit the file you must submit it having been run. You should run the file, complete Activity 1, Activity 2 and Activity 3. All results should be visible in you submission when it is opened.</h2>\n",
    "\n",
    "<h2 style=\"color:red\">If the marker must run your file when you mark it there will be an immediate 10% penalty on your final mark.</h2>\n",
    "\n",
    "# Reflective Task\n",
    "\n",
    "The activity of finding and manipulating anagrams, palindromes, and palingrams will not be a frequent activity in your daily professional tasks. However, the skills learned to achieve this, manipulating and find data are very transferable to working with large datasets. All of the study streams will need to be able to access, manipulate, analyse and search large data files e.g  event logs, data feeds e.g large twitter datasets, hidden file directories or properties.\n",
    "\n",
    "Having now completed this task, you have identified the knowledge areas and skills you needed. You will also have identified which skills you are strong and weak in. In the below markdown tab, reflect on the following:\n",
    "\n",
    "1. Which skills were you strongest in?\n",
    "2. Which skills are you weakest in?\n",
    "3. How do you think you can improve these skills?\n",
    "4. In detail, how do you think the course's learning material could be improved to further support you and your skill development?\n",
    "5. Was there anything you very strongly liked or disliked in the course?\n",
    "\n",
    "**The reflection should be a minimum of 200 words. You can reflect in a single discussion or under each heading. The headers do NOT count towards the 200-word minimum.**"
   ]
  },
  {
   "cell_type": "markdown",
   "metadata": {},
   "source": [
    "Reflect here. Replace this text."
   ]
  },
  {
   "cell_type": "markdown",
   "metadata": {},
   "source": [
    "# Marking and Assessment\n",
    "\n",
    "### The Marking Guide is available in the assignments PDF.\n",
    "\n",
    "**IMPORTANT: If you do not submit the reflective answer you immediately receive zero.**\n",
    "\n",
    "Feedback for this assessment and a breakdown of the final grade will be provided via the LMS (Moodle). "
   ]
  },
  {
   "cell_type": "code",
   "execution_count": null,
   "metadata": {},
   "outputs": [],
   "source": []
  }
 ],
 "metadata": {
  "kernelspec": {
   "name": "Python 3.9.0 64-bit",
   "display_name": "Python 3.9.0 64-bit",
   "metadata": {
    "interpreter": {
     "hash": "489ab7b16ba9aa1e029c8821d2344fbbd4205af5b45be750fb3882cbf2bdb881"
    }
   }
  },
  "language_info": {
   "codemirror_mode": {
    "name": "ipython",
    "version": 3
   },
   "file_extension": ".py",
   "mimetype": "text/x-python",
   "name": "python",
   "nbconvert_exporter": "python",
   "pygments_lexer": "ipython3",
   "version": "3.9.0-final"
  }
 },
 "nbformat": 4,
 "nbformat_minor": 4
}