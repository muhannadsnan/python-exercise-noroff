{
 "cells": [
  {
   "source": [
    "<style>\n",
    "    .heading{\n",
    "        color: #60e0b1; \n",
    "        font-size: 100px; \n",
    "        text-align: center; \n",
    "        padding: 0; \n",
    "        margin: 0; \n",
    "        border: 5px solid #60e0b1; \n",
    "        border-radius: 10px;\n",
    "    }\n",
    "    .heading:hover{\n",
    "        background: #60e0b1; \n",
    "        color: #222;\n",
    "    }\n",
    "</style>\n",
    "\n",
    "<h1 class=\"heading\">\n",
    "    Delivery\n",
    "</h1>"
   ],
   "cell_type": "markdown",
   "metadata": {}
  },
  {
   "source": [
    "# The function to print out the programs functionality explanation.\n",
    "def print_explanation():\n",
    "    print(\n",
    "        '''\n",
    "        An anagram is a word or phrase formed by rearranging the letters of a different word or phrase, \n",
    "        typically using all the original letters exactly once. It can however us on a few of the letters.    \n",
    "        A palindrome is a word, number, phrase, or other sequence of characters which reads the same \n",
    "        backward as forward, such as \"madam\" or \"racecar\".\n",
    "    \n",
    "        A palingram – a letter palingram. A palingram can also be created using syllables\n",
    "        or words, in addition to individual letters. An example of this using words is, “He was, was he?” \n",
    "        Notice that the words can be reversed and the sentence still reads the same. \n",
    "        A sentence that is a palingram and a palindrome is, “I did, did I”  \n",
    "        \n",
    "        This application allows three activities.\n",
    "    \n",
    "          Activity A: Finds the anagrams for any word you enter. Then identifies palindromes, if there are any, \n",
    "                      in the identified anagrams. \n",
    "    \n",
    "          Activity B: Finds all the word pairs in the dictionary list which form palingrams. \n",
    "                      The palingrams ignore spaces and hyphens.   \n",
    "                      \n",
    "          Activity C: Find all the palindromes in the dictionary.\n",
    "          ''')"
   ],
   "cell_type": "code",
   "metadata": {},
   "execution_count": 65,
   "outputs": []
  },
  {
   "source": [
    "# Loads a text file as a list. Arguments: -text file name. Exceptions: -IOError if filename not found. Returns: -A list of all words in text file in lower case. Requires-import sys\n",
    "def load(file):\n",
    "    \"\"\"Open a text file & turn contents into a list of lowercase strings.\"\"\"\n",
    "    try:\n",
    "        with open(file) as in_file:\n",
    "            loaded_txt = in_file.read().strip().split('\\n')\n",
    "            loaded_txt = [x.lower() for x in loaded_txt]\n",
    "            return loaded_txt\n",
    "    except IOError as e:\n",
    "        print(\"{}\\nError opening {}. Terminating program.\".format(e, file),\n",
    "              file=sys.stderr)\n",
    "        sys.exit(1)"
   ],
   "cell_type": "code",
   "metadata": {},
   "execution_count": 66,
   "outputs": []
  },
  {
   "cell_type": "code",
   "execution_count": 67,
   "metadata": {},
   "outputs": [],
   "source": [
    "# Print a list of the items in any list passed to the function. Use the first parameter to describe the list\n",
    "def print_generic_list(list_items_category_name, list_to_print):\n",
    "    # NEED IMPROVEMENT, PRINT ITEM BY ITEM\n",
    "\n",
    "    \n",
    "    if len(list_to_print) == 0:\n",
    "        print('No items in the list.')\n",
    "    else:\n",
    "        print(list_items_category_name, list_to_print)\n",
    "    "
   ]
  },
  {
   "source": [
    "# Find palindromes in the anagrams list\n",
    "def find_palindromes(anagram_list):\n",
    "    \"\"\"Find palindromes in the anagrams list.\"\"\"\n",
    "    pass"
   ],
   "cell_type": "code",
   "metadata": {},
   "execution_count": 68,
   "outputs": []
  },
  {
   "source": [
    "# Find dictionary palingrams\n",
    "def find_palingrams(dictionary_list):\n",
    "\n",
    "    pass\n"
   ],
   "cell_type": "code",
   "metadata": {},
   "execution_count": 69,
   "outputs": []
  },
  {
   "cell_type": "code",
   "execution_count": 70,
   "metadata": {},
   "outputs": [],
   "source": [
    "# Print the keywords and values of an dictionary passed to the method\n",
    "def print_pairs_of_twos(dictionary_of_pairs):\n",
    "    \"\"\"Print the keywords and values of an dictionary passed to the method.\"\"\"\n",
    "    pass"
   ]
  },
  {
   "cell_type": "code",
   "execution_count": 71,
   "metadata": {},
   "outputs": [],
   "source": [
    "# Write the lists of anagrams and the palindromes to a file. Use the original word in the file names and descriptions\n",
    "def write_anagrams_palindromes_to_file(original_word, anagrams_list, palindromes_list):\n",
    "    pass"
   ]
  },
  {
   "source": [
    "# Write the lists of palingrams to a file\n",
    "def write_palingrams_to_file(palingram_list):\n",
    "    \"\"\"Write the lists of palingrams to a file.\"\"\"\n",
    "    pass\n"
   ],
   "cell_type": "code",
   "metadata": {},
   "execution_count": 72,
   "outputs": []
  },
  {
   "cell_type": "code",
   "execution_count": 73,
   "metadata": {},
   "outputs": [],
   "source": [
    "def explanation_prompt():\n",
    "    # Starting up with showing explanation of the program so that the user has an overview over what it is about\n",
    "    #print_explanation()\n",
    "\n",
    "    # Now asking the user for desired input\n",
    "    global activity # Use the global variable \"activity\" to take the input of the user\n",
    "    activity = input('Choose activity A, B, or C. to run the process enter the appropriate letter. Else enter # to exit the application. \\nEnter choice:')"
   ]
  },
  {
   "cell_type": "code",
   "execution_count": 74,
   "metadata": {},
   "outputs": [],
   "source": [
    "# Find dictionary palingrams\n",
    "def find_anagrams(word_for_search, search_list_dictionary):\n",
    "    # Search the dictionary for words that match the length of user word. \n",
    "    word_for_search = word_for_search.lower()\n",
    "    word_count = collections.Counter(word_for_search) # letter counter e.g. {'a': 3, 'b': 2, 'c': 1}\n",
    "\n",
    "    anagrams = []\n",
    "    for word in search_list_dictionary:\n",
    "        # checking if the same letters in both word & word_for_search AND\n",
    "        # the same letter occurancies in both word & word_for\n",
    "        if not set(word) - set(word_for_search) and collections.Counter(word).items() == collections.Counter(word_for_search).items():\n",
    "                anagrams.append(word)\n",
    "            \n",
    "    # put the user input first on the list\n",
    "    if word_for_search in anagrams:\n",
    "        anagrams.remove(word_for_search)\n",
    "    anagrams = sorted(list(anagrams), key=str.lower)\n",
    "    anagrams.insert(0, word_for_search)\n",
    "    \n",
    "    print_generic_list('ANAGRAMS \\n', anagrams)\n",
    "    "
   ]
  },
  {
   "cell_type": "code",
   "execution_count": 75,
   "metadata": {},
   "outputs": [],
   "source": [
    "def main():\n",
    "    # Keep showing the explanation & asking the user for input, unless '#' is entered    \n",
    "    while activity != '#':\n",
    "        # Show explanation & user input \n",
    "        explanation_prompt()\n",
    "\n",
    "        # No valid choice entered by the user, no access to the program's activities\n",
    "        if activity.isalpha():\n",
    "            # Valid choice entered, execute the desired activity\n",
    "            if activity == 'A':\n",
    "                # Prompt asking for user word to search\n",
    "                user_word = input('Enter a word to be used in the anagram search:')\n",
    "                print('Using word = ' + user_word)\n",
    "                # Read the dictionary file\n",
    "                dictionary = load('words.txt')\n",
    "                # Let the function do the logic\n",
    "                find_anagrams(user_word, dictionary)\n",
    "\n",
    "            elif activity == 'B':\n",
    "                find_palindromes()\n",
    "\n",
    "            elif activity == 'C':\n",
    "                find_palingrams()\n",
    "        \n",
    "        \n",
    "        # Invalid user input\n",
    "        else:\n",
    "            print(activity+' Invalid input..')"
   ]
  },
  {
   "cell_type": "code",
   "execution_count": 76,
   "metadata": {
    "tags": []
   },
   "outputs": [
    {
     "output_type": "stream",
     "name": "stdout",
     "text": [
      "Using word = repaper\n",
      "ANAGRAMS \n",
      " ['repaper', 'paperer', 'prepare']\n",
      "Using word = aaabbn\n",
      "ANAGRAMS \n",
      " ['aaabbn']\n",
      "# Invalid input..\n"
     ]
    }
   ],
   "source": [
    "import sys, collections\n",
    "activity=''\n",
    "\n",
    "if __name__ == '__main__':\n",
    "    main()"
   ]
  },
  {
   "cell_type": "markdown",
   "metadata": {},
   "source": [
    "# VERY IMPORTANT SUBMISSION INFORMATION\n",
    "\n",
    "<h2>When you submit the file you must submit it having been run. You should run the file, complete Activity 1, Activity 2 and Activity 3. All results should be visible in you submission when it is opened.</h2>\n",
    "\n",
    "<h2 style=\"color:red\">If the marker must run your file when you mark it there will be an immediate 10% penalty on your final mark.</h2>\n",
    "\n",
    "# Reflective Task\n",
    "\n",
    "The activity of finding and manipulating anagrams, palindromes, and palingrams will not be a frequent activity in your daily professional tasks. However, the skills learned to achieve this, manipulating and find data are very transferable to working with large datasets. All of the study streams will need to be able to access, manipulate, analyse and search large data files e.g  event logs, data feeds e.g large twitter datasets, hidden file directories or properties.\n",
    "\n",
    "Having now completed this task, you have identified the knowledge areas and skills you needed. You will also have identified which skills you are strong and weak in. In the below markdown tab, reflect on the following:\n",
    "\n",
    "1. Which skills were you strongest in?\n",
    "2. Which skills are you weakest in?\n",
    "3. How do you think you can improve these skills?\n",
    "4. In detail, how do you think the course's learning material could be improved to further support you and your skill development?\n",
    "5. Was there anything you very strongly liked or disliked in the course?\n",
    "\n",
    "**The reflection should be a minimum of 200 words. You can reflect in a single discussion or under each heading. The headers do NOT count towards the 200-word minimum.**"
   ]
  },
  {
   "cell_type": "markdown",
   "metadata": {},
   "source": [
    "Reflect here. Replace this text."
   ]
  },
  {
   "cell_type": "markdown",
   "metadata": {},
   "source": [
    "# Marking and Assessment\n",
    "\n",
    "### The Marking Guide is available in the assignments PDF.\n",
    "\n",
    "**IMPORTANT: If you do not submit the reflective answer you immediately receive zero.**\n",
    "\n",
    "Feedback for this assessment and a breakdown of the final grade will be provided via the LMS (Moodle). "
   ]
  },
  {
   "cell_type": "code",
   "execution_count": null,
   "metadata": {},
   "outputs": [],
   "source": []
  }
 ],
 "metadata": {
  "kernelspec": {
   "name": "Python 3.9.0 64-bit",
   "display_name": "Python 3.9.0 64-bit",
   "metadata": {
    "interpreter": {
     "hash": "489ab7b16ba9aa1e029c8821d2344fbbd4205af5b45be750fb3882cbf2bdb881"
    }
   }
  },
  "language_info": {
   "codemirror_mode": {
    "name": "ipython",
    "version": 3
   },
   "file_extension": ".py",
   "mimetype": "text/x-python",
   "name": "python",
   "nbconvert_exporter": "python",
   "pygments_lexer": "ipython3",
   "version": "3.9.0-final"
  }
 },
 "nbformat": 4,
 "nbformat_minor": 4
}